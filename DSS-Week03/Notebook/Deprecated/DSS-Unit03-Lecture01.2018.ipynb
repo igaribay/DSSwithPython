{
 "cells": [
  {
   "cell_type": "markdown",
   "metadata": {},
   "source": [
    "# Unit 3 Lecture 1 -  Basic NumPy\n",
    "\n",
    "ESI4628: Decision Support Systems for Industrial Engineers<br>\n",
    "University of Central Florida\n",
    "Dr. Ivan Garibay, Ramya Akula, Mostafa Saeidi, Madeline Schiappa, and Brett Belcher. \n",
    "https://github.com/igaribay/DSSwithPython/blob/master/DSS-Week03/Notebook/DSS-Unit03-Lecture01.2018.ipynb"
   ]
  },
  {
   "cell_type": "markdown",
   "metadata": {},
   "source": [
    "## Notebook Learning Objectives\n",
    "After studying this notebook students should be able to:\n",
    "- Use the NumPy Python package to execute basic mathematical operations\n",
    "- Use Numpy to create and manipulate arrays"
   ]
  },
  {
   "cell_type": "markdown",
   "metadata": {},
   "source": [
    "# Overview\n",
    "\n",
    "Numpy is the fundamental package for scientific computing in Python:\n",
    "- Extremely useful for doing anything from simple to complex mathematics operations\n",
    "- NumPy gives a useful application programming interface (API) for data manipulation through its matrix operations\n",
    "- It is conventional to import NumPy as \"np\"\n",
    "\n",
    "For more information about Numpy:\n",
    "http://www.numpy.org/\n"
   ]
  },
  {
   "cell_type": "markdown",
   "metadata": {},
   "source": [
    "### The following line \"loads\" numpy into this Notebook"
   ]
  },
  {
   "cell_type": "code",
   "execution_count": 25,
   "metadata": {},
   "outputs": [],
   "source": [
    "import numpy as np"
   ]
  },
  {
   "cell_type": "markdown",
   "metadata": {},
   "source": [
    "### Create an array\n",
    "- Arrays are list of numbers"
   ]
  },
  {
   "cell_type": "code",
   "execution_count": 178,
   "metadata": {
    "scrolled": false
   },
   "outputs": [
    {
     "name": "stdout",
     "output_type": "stream",
     "text": [
      "[ 1 12 50  1  6]\n"
     ]
    }
   ],
   "source": [
    "MyList = [1,12,50,1,6]\n",
    "MyExampleArray = np.array(MyList)\n",
    "print(MyExampleArray)"
   ]
  },
  {
   "cell_type": "code",
   "execution_count": 128,
   "metadata": {},
   "outputs": [
    {
     "name": "stdout",
     "output_type": "stream",
     "text": [
      "5\n",
      "1\n",
      "(5,)\n",
      "int64\n"
     ]
    }
   ],
   "source": [
    "print(MyExampleArray.size)\n",
    "print(MyExampleArray.ndim)\n",
    "print(MyExampleArray.shape)\n",
    "print(MyExampleArray.dtype)"
   ]
  },
  {
   "cell_type": "code",
   "execution_count": 184,
   "metadata": {},
   "outputs": [
    {
     "name": "stdout",
     "output_type": "stream",
     "text": [
      "[12 50  1]\n"
     ]
    }
   ],
   "source": [
    "MyExampleArray = np.array([1,12,50,1,6])\n",
    "copy1 = MyExampleArray[1:4].copy()\n",
    "print(copy1)"
   ]
  },
  {
   "cell_type": "markdown",
   "metadata": {},
   "source": [
    "### One dimensional array\n",
    "- We can also create an array by just enumerating its elements directly\n",
    "- One dimensional arrays are a list of numbers\n",
    "- Lets create the following one dimensional array:<br>\n",
    "\\begin{equation*}\n",
    "\\begin{bmatrix} \n",
    "1 & 12 & 50 & 0 & 6 \n",
    "\\end{bmatrix}\n",
    "\\end{equation*}"
   ]
  },
  {
   "cell_type": "code",
   "execution_count": 129,
   "metadata": {},
   "outputs": [
    {
     "name": "stdout",
     "output_type": "stream",
     "text": [
      "[ 1 12 50  1  6]\n"
     ]
    }
   ],
   "source": [
    "MyArray1D = np.array([\n",
    "                        1,\n",
    "                        12,\n",
    "                        50,\n",
    "                        1,\n",
    "                        6\n",
    "                    ])\n",
    "print(MyArray1D)"
   ]
  },
  {
   "cell_type": "markdown",
   "metadata": {},
   "source": [
    "### Two dimensional array\n",
    "A two dimensional array is simply a list containing \"list of numbers\" as elements. For example see the following two dimensional array:\n",
    "\\begin{equation*}\n",
    "\\begin{bmatrix} \n",
    "\\begin{bmatrix}1 & 12 & 50 & 0 & 6\\end{bmatrix} \\\\\n",
    "\\begin{bmatrix}8 & 4 & 16 & 6 & 69\\end{bmatrix} \\\\\n",
    "\\begin{bmatrix}56 & 6 & 87 & 0 & 39\\end{bmatrix} \\\\\n",
    "\\begin{bmatrix}89 & 4 & 50 & 2 & 5\\end{bmatrix} \n",
    "\\end{bmatrix}\n",
    "\\end{equation*}\n",
    "<br>\n",
    "alternatively, omiting the interior brackets, simply:<br>\n",
    "\\begin{equation*}\n",
    "\\begin{bmatrix} \n",
    "1 & 12 & 50 & 0 & 6 \\\\\n",
    "8 & 4 & 16 & 6 & 69\\\\\n",
    "56 & 6 & 87 & 0 & 39\\\\\n",
    "89 & 4 & 50 & 2 & 5\n",
    "\\end{bmatrix}\n",
    "\\end{equation*}\n",
    "<br>\n",
    "Below, lets create this array as <code>MyArray2D</code>"
   ]
  },
  {
   "cell_type": "code",
   "execution_count": 132,
   "metadata": {},
   "outputs": [
    {
     "name": "stdout",
     "output_type": "stream",
     "text": [
      "[[ 1 12 50  1  6]\n",
      " [ 8  4 16  6 69]\n",
      " [56  6 87  0 39]\n",
      " [89  4 50  2  5]]\n"
     ]
    }
   ],
   "source": [
    "MyArray2D = np.array([\n",
    "                        [1, 12,  50,  1,  6],\n",
    "                        [8 , 4 , 16 , 6 , 69],\n",
    "                        [56 , 6 , 87 , 0 , 39],\n",
    "                        [89 , 4 , 50 , 2 , 5]\n",
    "                     ])\n",
    "print(MyArray2D)\n"
   ]
  },
  {
   "cell_type": "code",
   "execution_count": 131,
   "metadata": {},
   "outputs": [
    {
     "data": {
      "text/plain": [
       "1"
      ]
     },
     "execution_count": 131,
     "metadata": {},
     "output_type": "execute_result"
    }
   ],
   "source": [
    "MyArray2D[0,0]"
   ]
  },
  {
   "cell_type": "code",
   "execution_count": 135,
   "metadata": {},
   "outputs": [
    {
     "data": {
      "text/plain": [
       "56"
      ]
     },
     "execution_count": 135,
     "metadata": {},
     "output_type": "execute_result"
    }
   ],
   "source": [
    "MyArray2D[2,0]"
   ]
  },
  {
   "cell_type": "code",
   "execution_count": 136,
   "metadata": {},
   "outputs": [
    {
     "data": {
      "text/plain": [
       "5"
      ]
     },
     "execution_count": 136,
     "metadata": {},
     "output_type": "execute_result"
    }
   ],
   "source": [
    "MyArray2D[3,4]"
   ]
  },
  {
   "cell_type": "markdown",
   "metadata": {},
   "source": [
    "\n",
    "\n",
    "### Three dimensional arrays\n",
    "A three dimensional array is simply a list containing \"list of list of numbers\" as elements. For example see the following three dimensional array:\n",
    "\n",
    "\\begin{equation*}\n",
    "\\begin{bmatrix} \n",
    "\\begin{bmatrix} \n",
    "1 & 12 & 50 & 0 & 6 \\\\\n",
    "8 & 4 & 16 & 6 & 69\\\\\n",
    "56 & 6 & 87 & 0 & 39\\\\\n",
    "89 & 4 & 50 & 2 & 5\n",
    "\\end{bmatrix}\n",
    "& \n",
    "\\begin{bmatrix} \n",
    "1 & 55 & 50 & 0 & 4 \\\\\n",
    "5 & 43 & 6 & 16 & 2\\\\\n",
    "5 & 62 & 8 & 1 & 5\\\\\n",
    "9 & 54 & 0 & 12 & 4\n",
    "\\end{bmatrix}\n",
    "& \n",
    "\\begin{bmatrix} \n",
    "5 & 13 & 9 & 89 & 5 \\\\\n",
    "66 & 4 & 4 & 4 & 3\\\\\n",
    "5 & 6 & 4 & 4 & 5\\\\\n",
    "29 & 4 & 4 & 4 & 8\n",
    "\\end{bmatrix}\n",
    "& \n",
    "\\begin{bmatrix} \n",
    "1 & 9 & 26 & 12 & 5 \\\\\n",
    "4 & 5 & 55 & 5 & 4\\\\\n",
    "5 & 0 & 0 & 0 & 6\\\\\n",
    "81 & 1 & 1 & 1 & 44\n",
    "\\end{bmatrix}\n",
    "\\end{bmatrix}\n",
    "\\end{equation*}\n",
    "<br>\n",
    "Below, lets create this array as <code>MyArray3D</code>"
   ]
  },
  {
   "cell_type": "code",
   "execution_count": 33,
   "metadata": {},
   "outputs": [
    {
     "name": "stdout",
     "output_type": "stream",
     "text": [
      "[[[ 1 12 50  1  6]\n",
      "  [ 8  4 16  6 69]\n",
      "  [56  6 87  0 39]\n",
      "  [89  4 50  2  5]]\n",
      "\n",
      " [[ 1 55 50  0  4]\n",
      "  [ 5 43  6 16  2]\n",
      "  [ 5 62  8  1  5]\n",
      "  [ 9 54  0 12  4]]\n",
      "\n",
      " [[ 5 13  9 89  5]\n",
      "  [66  4  4  4  3]\n",
      "  [ 5  6  4  4  5]\n",
      "  [29  4  4  4  8]]\n",
      "\n",
      " [[ 1  9 26 12  5]\n",
      "  [ 4  5 55  5  4]\n",
      "  [ 5  0  0  0  6]\n",
      "  [81  1  1  1 44]]]\n"
     ]
    }
   ],
   "source": [
    "MyArray3D = np.array([\n",
    "                        [\n",
    "                            [1, 12,  50,  1,  6],\n",
    "                            [8 , 4 , 16 , 6 , 69],\n",
    "                            [56 , 6 , 87 , 0 , 39],\n",
    "                            [89 , 4 , 50 , 2 , 5]\n",
    "                        ],\n",
    "                        [\n",
    "                            [1 , 55 , 50 , 0 , 4],\n",
    "                            [5 , 43 , 6 , 16 , 2],\n",
    "                            [5 , 62 , 8 , 1 , 5],\n",
    "                            [9 , 54 , 0 , 12 , 4]\n",
    "                        ],\n",
    "                        [\n",
    "                            [5 , 13 , 9 , 89 , 5],\n",
    "                            [66 , 4 , 4 , 4 , 3],\n",
    "                            [5 , 6 , 4 , 4 , 5],\n",
    "                            [29 , 4 , 4 , 4 , 8]\n",
    "                        ],\n",
    "                        [\n",
    "                            [1 , 9 , 26 , 12 , 5],\n",
    "                            [4 , 5 , 55 , 5 , 4],\n",
    "                            [5 , 0 , 0 , 0 , 6],\n",
    "                            [81 , 1 , 1 , 1 , 44]\n",
    "                        ]\n",
    "                     ])\n",
    "print(MyArray3D)"
   ]
  },
  {
   "cell_type": "code",
   "execution_count": 62,
   "metadata": {},
   "outputs": [
    {
     "name": "stdout",
     "output_type": "stream",
     "text": [
      "80\n",
      "3\n",
      "(4, 4, 5)\n",
      "int64\n"
     ]
    }
   ],
   "source": [
    "print(MyArray3D.size)\n",
    "print(MyArray3D.ndim)\n",
    "print(MyArray3D.shape)\n",
    "print(MyArray3D.dtype)"
   ]
  },
  {
   "cell_type": "markdown",
   "metadata": {},
   "source": [
    "# Intro to arrays, attributes, and functions"
   ]
  },
  {
   "cell_type": "markdown",
   "metadata": {},
   "source": [
    "First let us create a normal list and convert it to a NumPy array"
   ]
  },
  {
   "cell_type": "code",
   "execution_count": 85,
   "metadata": {},
   "outputs": [
    {
     "name": "stdout",
     "output_type": "stream",
     "text": [
      "[[1 2 3 4 5]]\n"
     ]
    }
   ],
   "source": [
    "list = [1, 2, 3, 4, 5]\n",
    "array = np.array([list])\n",
    "print(array)"
   ]
  },
  {
   "cell_type": "markdown",
   "metadata": {},
   "source": [
    "Now the ```array``` variable has all the functionality of NumPy! Let's make a second list so we can start seeing some of NumPy's built in operations"
   ]
  },
  {
   "cell_type": "code",
   "execution_count": 86,
   "metadata": {},
   "outputs": [
    {
     "name": "stdout",
     "output_type": "stream",
     "text": [
      "[[ 6  7  8  9 10]]\n"
     ]
    }
   ],
   "source": [
    "list2 = [6, 7, 8, 9, 10]\n",
    "array2 = np.array([list2])\n",
    "print(array2)"
   ]
  },
  {
   "cell_type": "markdown",
   "metadata": {},
   "source": [
    "Now with two arrays, we can use them to perform mathematical operations:\n",
    "\\begin{equation*}\n",
    "\\begin{bmatrix} \n",
    "1 & 2 & 3 & 4 & 5 \n",
    "\\end{bmatrix}\n",
    "+\n",
    "\\begin{bmatrix} \n",
    "6 & 7 & 8 & 9 & 10 \n",
    "\\end{bmatrix}\n",
    "\\end{equation*}\n",
    "\\begin{equation*}\n",
    "\\begin{bmatrix} \n",
    "1 & 2 & 3 & 4 & 5 \n",
    "\\end{bmatrix}\n",
    "-\n",
    "\\begin{bmatrix} \n",
    "6 & 7 & 8 & 9 & 10 \n",
    "\\end{bmatrix}\n",
    "\\end{equation*}\n",
    "\\begin{equation*}\n",
    "\\begin{bmatrix} \n",
    "1 & 2 & 3 & 4 & 5 \n",
    "\\end{bmatrix}\n",
    "\\times\n",
    "\\begin{bmatrix} \n",
    "6 & 7 & 8 & 9 & 10 \n",
    "\\end{bmatrix}\n",
    "\\end{equation*}\n",
    "\\begin{equation*}\n",
    "\\begin{bmatrix} \n",
    "1 & 2 & 3 & 4 & 5 \n",
    "\\end{bmatrix}\n",
    "\\div\n",
    "\\begin{bmatrix} \n",
    "6 & 7 & 8 & 9 & 10 \n",
    "\\end{bmatrix}\n",
    "\\end{equation*}"
   ]
  },
  {
   "cell_type": "code",
   "execution_count": 104,
   "metadata": {},
   "outputs": [
    {
     "ename": "ValueError",
     "evalue": "shapes (1,5) and (1,5) not aligned: 5 (dim 1) != 1 (dim 0)",
     "output_type": "error",
     "traceback": [
      "\u001b[0;31m---------------------------------------------------------------------------\u001b[0m",
      "\u001b[0;31mValueError\u001b[0m                                Traceback (most recent call last)",
      "\u001b[0;32m<ipython-input-104-afb50a57ad5e>\u001b[0m in \u001b[0;36m<module>\u001b[0;34m()\u001b[0m\n\u001b[1;32m      1\u001b[0m \u001b[0madd\u001b[0m \u001b[0;34m=\u001b[0m \u001b[0mnp\u001b[0m\u001b[0;34m.\u001b[0m\u001b[0madd\u001b[0m\u001b[0;34m(\u001b[0m\u001b[0marray\u001b[0m\u001b[0;34m,\u001b[0m \u001b[0marray2\u001b[0m\u001b[0;34m)\u001b[0m \u001b[0;31m# Performs elementwise adding\u001b[0m\u001b[0;34m\u001b[0m\u001b[0m\n\u001b[1;32m      2\u001b[0m \u001b[0msub\u001b[0m \u001b[0;34m=\u001b[0m \u001b[0mnp\u001b[0m\u001b[0;34m.\u001b[0m\u001b[0msubtract\u001b[0m\u001b[0;34m(\u001b[0m\u001b[0marray\u001b[0m\u001b[0;34m,\u001b[0m \u001b[0marray2\u001b[0m\u001b[0;34m)\u001b[0m \u001b[0;31m# Performs elementwise subtraction\u001b[0m\u001b[0;34m\u001b[0m\u001b[0m\n\u001b[0;32m----> 3\u001b[0;31m \u001b[0mmult\u001b[0m \u001b[0;34m=\u001b[0m \u001b[0mnp\u001b[0m\u001b[0;34m.\u001b[0m\u001b[0mmatmul\u001b[0m\u001b[0;34m(\u001b[0m\u001b[0marray\u001b[0m\u001b[0;34m,\u001b[0m \u001b[0marray2\u001b[0m\u001b[0;34m)\u001b[0m \u001b[0;31m# Performs matrix multiplication\u001b[0m\u001b[0;34m\u001b[0m\u001b[0m\n\u001b[0m\u001b[1;32m      4\u001b[0m \u001b[0mdiv\u001b[0m \u001b[0;34m=\u001b[0m \u001b[0mnp\u001b[0m\u001b[0;34m.\u001b[0m\u001b[0mdivide\u001b[0m\u001b[0;34m(\u001b[0m\u001b[0marray\u001b[0m\u001b[0;34m,\u001b[0m \u001b[0marray2\u001b[0m\u001b[0;34m)\u001b[0m \u001b[0;31m# Performs elementwise division\u001b[0m\u001b[0;34m\u001b[0m\u001b[0m\n",
      "\u001b[0;31mValueError\u001b[0m: shapes (1,5) and (1,5) not aligned: 5 (dim 1) != 1 (dim 0)"
     ]
    }
   ],
   "source": [
    "add = np.add(array, array2) # Performs elementwise adding\n",
    "sub = np.subtract(array, array2) # Performs elementwise subtraction\n",
    "mult = np.matmul(array, array2) # Performs matrix multiplication\n",
    "div = np.divide(array, array2) # Performs elementwise division"
   ]
  },
  {
   "cell_type": "markdown",
   "metadata": {},
   "source": [
    "Can anyone spot the problem in the code above?\n",
    "\n",
    "NumPy arrays have great attributes such as ```ndim```, ```shape```, ```size```, and ```dtype```.\n",
    "\n",
    "```ndim```: The number of dimensions\n",
    "\n",
    "```shape```: The size of each dimension presented as a tuple\n",
    "\n",
    "```size```: The total size of the array\n",
    "\n",
    "```dtype```: The data type of the array\n",
    "\n",
    "Using these attributes, we can find the problem."
   ]
  },
  {
   "cell_type": "code",
   "execution_count": 105,
   "metadata": {},
   "outputs": [
    {
     "name": "stdout",
     "output_type": "stream",
     "text": [
      "('array has', 2, 'dimensions')\n",
      "('array has the shape', (1, 5))\n",
      "('array is of size', 5)\n",
      "('array is of type', dtype('int64'))\n",
      "()\n",
      "('array2 has', 2, 'dimensions')\n",
      "('array2 has the shape', (1, 5))\n",
      "('array2 is of size', 5)\n",
      "('array2 is of type', dtype('int64'))\n"
     ]
    }
   ],
   "source": [
    "print(\"array has\", array.ndim, \"dimensions\")\n",
    "print(\"array has the shape\", array.shape)\n",
    "print(\"array is of size\", array.size)\n",
    "print(\"array is of type\", array.dtype)\n",
    "print()\n",
    "print(\"array2 has\", array2.ndim, \"dimensions\")\n",
    "print(\"array2 has the shape\", array2.shape)\n",
    "print(\"array2 is of size\", array2.size)\n",
    "print(\"array2 is of type\", array2.dtype)"
   ]
  },
  {
   "cell_type": "markdown",
   "metadata": {},
   "source": [
    "The problem is because ```array``` and ```array2``` are both of shape ```1 x 5``` meaning they cannot be multiplied together. A matrix of shape ```1 x 5``` can only be multiplied by a matrix of shape ```5 x k``` which would produce a matrix of shape ```1 x k```\n",
    "\n",
    "Let's perform a simple transformation to allow the matrix multiplication to work! First let's comment out the bugged line earlier."
   ]
  },
  {
   "cell_type": "code",
   "execution_count": 106,
   "metadata": {},
   "outputs": [],
   "source": [
    "array2_transformed = array2.transpose()"
   ]
  },
  {
   "cell_type": "markdown",
   "metadata": {},
   "source": [
    "We can check this new array's ```shape```"
   ]
  },
  {
   "cell_type": "code",
   "execution_count": 107,
   "metadata": {},
   "outputs": [
    {
     "name": "stdout",
     "output_type": "stream",
     "text": [
      "(5, 1)\n"
     ]
    }
   ],
   "source": [
    "print(array2_transformed.shape)"
   ]
  },
  {
   "cell_type": "markdown",
   "metadata": {},
   "source": [
    "Now we can perform our matrix multiplication! Since the multiplication is ```(1 x 5) x (5 x 1)```, this should result in an array of size ```1 x 1```"
   ]
  },
  {
   "cell_type": "code",
   "execution_count": 108,
   "metadata": {},
   "outputs": [
    {
     "name": "stdout",
     "output_type": "stream",
     "text": [
      "(1, 1)\n"
     ]
    }
   ],
   "source": [
    "mult = np.matmul(array, array2_transformed)\n",
    "print(mult.shape)"
   ]
  },
  {
   "cell_type": "code",
   "execution_count": 109,
   "metadata": {},
   "outputs": [
    {
     "name": "stdout",
     "output_type": "stream",
     "text": [
      "[[ 7  9 11 13 15]]\n",
      "[[-5 -5 -5 -5 -5]]\n",
      "[[130]]\n",
      "[[0 0 0 0 0]]\n"
     ]
    }
   ],
   "source": [
    "print(add)\n",
    "print(sub)\n",
    "print(mult)\n",
    "print(div)"
   ]
  },
  {
   "cell_type": "markdown",
   "metadata": {},
   "source": [
    "# Manipulating Arrays"
   ]
  },
  {
   "cell_type": "markdown",
   "metadata": {},
   "source": [
    "Now that we have a basic overview of NumPy arrays, we can work to manipulate them"
   ]
  },
  {
   "cell_type": "markdown",
   "metadata": {},
   "source": [
    "First let me introduce a new function for instantiating arrays similar to the arrays we had before called ```arange()```"
   ]
  },
  {
   "cell_type": "code",
   "execution_count": 94,
   "metadata": {},
   "outputs": [
    {
     "name": "stdout",
     "output_type": "stream",
     "text": [
      "[ 0  1  2  3  4  5  6  7  8  9 10 11]\n"
     ]
    }
   ],
   "source": [
    "x1 = np.arange(12)\n",
    "print(x1)"
   ]
  },
  {
   "cell_type": "markdown",
   "metadata": {},
   "source": [
    "## Indexing Arrays"
   ]
  },
  {
   "cell_type": "markdown",
   "metadata": {},
   "source": [
    "We can index arrays similar to in other programming language. \n",
    "\n",
    "__Note__: Remember that array indexing starts at index 0"
   ]
  },
  {
   "cell_type": "code",
   "execution_count": 95,
   "metadata": {},
   "outputs": [
    {
     "name": "stdout",
     "output_type": "stream",
     "text": [
      "0\n",
      "4\n",
      "11\n"
     ]
    }
   ],
   "source": [
    "print(x1[0])\n",
    "print(x1[4])\n",
    "print(x1[11])"
   ]
  },
  {
   "cell_type": "markdown",
   "metadata": {},
   "source": [
    "Python also allows for indexing backwards by using negative indicies. So we can access the last element of an array with index ```-1```"
   ]
  },
  {
   "cell_type": "code",
   "execution_count": 96,
   "metadata": {},
   "outputs": [
    {
     "name": "stdout",
     "output_type": "stream",
     "text": [
      "11\n"
     ]
    }
   ],
   "source": [
    "print(x1[-1])"
   ]
  },
  {
   "cell_type": "markdown",
   "metadata": {},
   "source": [
    "## Slicing Arrays: Subarrays"
   ]
  },
  {
   "cell_type": "markdown",
   "metadata": {},
   "source": [
    "Accessing subarrays can be done witht he slice notation which is marked by the ```:``` character. The format is as follows:\n",
    "\n",
    "``` x[start:stop:step] ```\n",
    "\n",
    "where the default values are ```start = 0```, ```stop = size of dimension```, and ```step = 1```"
   ]
  },
  {
   "cell_type": "markdown",
   "metadata": {},
   "source": [
    "So we can access the first five elements by overwriting the default of ```stop```"
   ]
  },
  {
   "cell_type": "code",
   "execution_count": 97,
   "metadata": {},
   "outputs": [
    {
     "name": "stdout",
     "output_type": "stream",
     "text": [
      "[0 1 2 3 4]\n"
     ]
    }
   ],
   "source": [
    "print(x1[:5])"
   ]
  },
  {
   "cell_type": "markdown",
   "metadata": {},
   "source": [
    "We can access the middle elements by overwriting the default of ```start``` and ```stop```"
   ]
  },
  {
   "cell_type": "code",
   "execution_count": 14,
   "metadata": {},
   "outputs": [
    {
     "name": "stdout",
     "output_type": "stream",
     "text": [
      "[4 5 6]\n"
     ]
    }
   ],
   "source": [
    "print(x1[4:7])"
   ]
  },
  {
   "cell_type": "markdown",
   "metadata": {},
   "source": [
    "We can access every other element by overwriting the default of ```step```"
   ]
  },
  {
   "cell_type": "code",
   "execution_count": 98,
   "metadata": {},
   "outputs": [
    {
     "name": "stdout",
     "output_type": "stream",
     "text": [
      "[ 0  2  4  6  8 10]\n"
     ]
    }
   ],
   "source": [
    "print(x1[::2])"
   ]
  },
  {
   "cell_type": "markdown",
   "metadata": {},
   "source": [
    "__Note__: Having a negative ```step``` value is valid; however, the default of ```start``` and ```stop``` are swapped\n",
    "\n",
    "Thus we can reverse an array in the following manner"
   ]
  },
  {
   "cell_type": "code",
   "execution_count": 99,
   "metadata": {},
   "outputs": [
    {
     "name": "stdout",
     "output_type": "stream",
     "text": [
      "[11 10  9  8  7  6  5  4  3  2  1  0]\n"
     ]
    }
   ],
   "source": [
    "print(x1[::-1])"
   ]
  },
  {
   "cell_type": "markdown",
   "metadata": {},
   "source": [
    "## Array Dimensions"
   ]
  },
  {
   "cell_type": "markdown",
   "metadata": {},
   "source": [
    "It is important to note the ```shape``` of the above array"
   ]
  },
  {
   "cell_type": "code",
   "execution_count": 100,
   "metadata": {},
   "outputs": [
    {
     "name": "stdout",
     "output_type": "stream",
     "text": [
      "(12,)\n"
     ]
    }
   ],
   "source": [
    "print(x1.shape)"
   ]
  },
  {
   "cell_type": "markdown",
   "metadata": {},
   "source": [
    "This is different than the shape we have previously seen. This is a 1-dimensional array of with 12 elements.\n",
    "\n",
    "Sometimes this is what we want, but what if we rather wanted a matrix with 1 row and 12 columns?\n",
    "\n",
    "We can use the ```reshape()``` function in this case to reshape the dimensions of the array"
   ]
  },
  {
   "cell_type": "code",
   "execution_count": 101,
   "metadata": {},
   "outputs": [
    {
     "name": "stdout",
     "output_type": "stream",
     "text": [
      "(1, 12)\n",
      "[[ 0  1  2  3  4  5  6  7  8  9 10 11]]\n"
     ]
    }
   ],
   "source": [
    "x1 = x1.reshape((1, 12))\n",
    "print(x1.shape)\n",
    "print(x1)"
   ]
  },
  {
   "cell_type": "markdown",
   "metadata": {},
   "source": [
    "We can also use the ```random``` package to instantiate randomly generated arrays to work with"
   ]
  },
  {
   "cell_type": "code",
   "execution_count": 164,
   "metadata": {},
   "outputs": [
    {
     "name": "stdout",
     "output_type": "stream",
     "text": [
      "[[5 0 3 3 7 9 3 5 2 4 7 6]]\n"
     ]
    }
   ],
   "source": [
    "np.random.seed(0) # The seed allows for consistent examples\n",
    "\n",
    "x1 = np.random.randint(10, size=(1, 12))\n",
    "print(x1)"
   ]
  },
  {
   "cell_type": "markdown",
   "metadata": {},
   "source": [
    "We can use the ```reshape()``` function to change ```x1``` to be of a different shape like ```3 x 4```"
   ]
  },
  {
   "cell_type": "code",
   "execution_count": 165,
   "metadata": {},
   "outputs": [
    {
     "name": "stdout",
     "output_type": "stream",
     "text": [
      "[[5 0 3 3]\n",
      " [7 9 3 5]\n",
      " [2 4 7 6]]\n"
     ]
    }
   ],
   "source": [
    "x1 = x1.reshape((3, 4))\n",
    "print(x1)"
   ]
  },
  {
   "cell_type": "markdown",
   "metadata": {},
   "source": [
    "## Indexing and Splicing with Multi-Dimensional Arrays"
   ]
  },
  {
   "cell_type": "markdown",
   "metadata": {},
   "source": [
    "It can be seen how we can extend the earlier techniques of indexing and splicing to multiple dimensions.\n",
    "\n",
    "For indexing, it is as simple as specifying the index in all of the dimensions you wish to index"
   ]
  },
  {
   "cell_type": "code",
   "execution_count": 21,
   "metadata": {},
   "outputs": [
    {
     "name": "stdout",
     "output_type": "stream",
     "text": [
      "5\n"
     ]
    }
   ],
   "source": [
    "print(x1[1][3])"
   ]
  },
  {
   "cell_type": "markdown",
   "metadata": {},
   "source": [
    "If we can use this same idea to not only access specific elements, but even rows or columns of our array"
   ]
  },
  {
   "cell_type": "code",
   "execution_count": 22,
   "metadata": {},
   "outputs": [
    {
     "name": "stdout",
     "output_type": "stream",
     "text": [
      "[7 9 3 5]\n"
     ]
    }
   ],
   "source": [
    "print(x1[1])\n",
    "# An equivalent line of code using the splicing notation is\n",
    "# print(x1[1][:])"
   ]
  },
  {
   "cell_type": "markdown",
   "metadata": {},
   "source": [
    "We can use splicing notation along with the indexing notation to do things like get subarrays from multi-dimensional arrays"
   ]
  },
  {
   "cell_type": "code",
   "execution_count": 23,
   "metadata": {},
   "outputs": [
    {
     "name": "stdout",
     "output_type": "stream",
     "text": [
      "[3 5]\n"
     ]
    }
   ],
   "source": [
    "print(x1[1][2:4])"
   ]
  },
  {
   "cell_type": "markdown",
   "metadata": {},
   "source": [
    "## Subarrays are views and not copies"
   ]
  },
  {
   "cell_type": "markdown",
   "metadata": {},
   "source": [
    "It is best to know early on that when you slice arrays you are not getting back a copy of that subarray, but simply a view of that subarray.\n",
    "\n",
    "Thus, any changes made to the view affect the original array as you will see below. First let's print our array"
   ]
  },
  {
   "cell_type": "code",
   "execution_count": 24,
   "metadata": {},
   "outputs": [
    {
     "name": "stdout",
     "output_type": "stream",
     "text": [
      "[[5 0 3 3]\n",
      " [7 9 3 5]\n",
      " [2 4 7 6]]\n"
     ]
    }
   ],
   "source": [
    "print(x1)"
   ]
  },
  {
   "cell_type": "markdown",
   "metadata": {},
   "source": [
    "Now let's print a subarray of ```x1``` that we will define as ```x1_subarray```"
   ]
  },
  {
   "cell_type": "code",
   "execution_count": 25,
   "metadata": {},
   "outputs": [
    {
     "name": "stdout",
     "output_type": "stream",
     "text": [
      "[4 7 6]\n"
     ]
    }
   ],
   "source": [
    "x1_subarray = x1[2][1:]\n",
    "print(x1_subarray)"
   ]
  },
  {
   "cell_type": "markdown",
   "metadata": {},
   "source": [
    "Now let's make a change to ```x1_subarray``` and see how it affects ```x1```"
   ]
  },
  {
   "cell_type": "code",
   "execution_count": 26,
   "metadata": {},
   "outputs": [
    {
     "name": "stdout",
     "output_type": "stream",
     "text": [
      "[-1  7  6]\n",
      "[[ 5  0  3  3]\n",
      " [ 7  9  3  5]\n",
      " [ 2 -1  7  6]]\n"
     ]
    }
   ],
   "source": [
    "x1_subarray[0] = -1\n",
    "print(x1_subarray)\n",
    "print(x1)"
   ]
  },
  {
   "cell_type": "markdown",
   "metadata": {},
   "source": [
    "While this may seem unuseful it actually is a great feature when working with big data. If we have a large quantity of data, then we can use this to access and process smaller chuncks of our large dataset.\n",
    "\n",
    "For now though, it would be best to know how to make actual copies of an array. We can do this using the ```copy()``` function"
   ]
  },
  {
   "cell_type": "code",
   "execution_count": 27,
   "metadata": {},
   "outputs": [
    {
     "name": "stdout",
     "output_type": "stream",
     "text": [
      "[-1  7  6]\n"
     ]
    }
   ],
   "source": [
    "x1_subarray_copy = x1[2][1:].copy()\n",
    "print(x1_subarray_copy)"
   ]
  },
  {
   "cell_type": "code",
   "execution_count": 28,
   "metadata": {},
   "outputs": [
    {
     "name": "stdout",
     "output_type": "stream",
     "text": [
      "[100   7   6]\n"
     ]
    }
   ],
   "source": [
    "x1_subarray_copy[0] = 100\n",
    "print(x1_subarray_copy)"
   ]
  },
  {
   "cell_type": "markdown",
   "metadata": {},
   "source": [
    "Now let's see how making this change to the copy of the subarray didn't change the original ```x1``` at all."
   ]
  },
  {
   "cell_type": "code",
   "execution_count": 29,
   "metadata": {
    "scrolled": false
   },
   "outputs": [
    {
     "name": "stdout",
     "output_type": "stream",
     "text": [
      "[[ 5  0  3  3]\n",
      " [ 7  9  3  5]\n",
      " [ 2 -1  7  6]]\n"
     ]
    }
   ],
   "source": [
    "print(x1)"
   ]
  },
  {
   "cell_type": "markdown",
   "metadata": {},
   "source": [
    "# Exercises"
   ]
  },
  {
   "cell_type": "markdown",
   "metadata": {},
   "source": [
    "__3.1__ Add the following arrays:\n",
    "\\begin{equation*}\n",
    "\\begin{bmatrix} \n",
    "1 & 2 \\\\\n",
    "3 & 4\n",
    "\\end{bmatrix} \n",
    "+\n",
    "\\begin{bmatrix} \n",
    "1 & 1 \\\\\n",
    "1 & 1\n",
    "\\end{bmatrix} \n",
    "\\end{equation*}"
   ]
  },
  {
   "cell_type": "markdown",
   "metadata": {},
   "source": [
    "__3.1 Solution:__"
   ]
  },
  {
   "cell_type": "code",
   "execution_count": 1,
   "metadata": {},
   "outputs": [
    {
     "ename": "NameError",
     "evalue": "name 'np' is not defined",
     "output_type": "error",
     "traceback": [
      "\u001b[0;31m---------------------------------------------------------------------------\u001b[0m",
      "\u001b[0;31mNameError\u001b[0m                                 Traceback (most recent call last)",
      "\u001b[0;32m<ipython-input-1-1542fdf38b97>\u001b[0m in \u001b[0;36m<module>\u001b[0;34m()\u001b[0m\n\u001b[0;32m----> 1\u001b[0;31m \u001b[0mA\u001b[0m \u001b[0;34m=\u001b[0m \u001b[0mnp\u001b[0m\u001b[0;34m.\u001b[0m\u001b[0marray\u001b[0m\u001b[0;34m(\u001b[0m\u001b[0;34m[\u001b[0m\u001b[0;34m[\u001b[0m\u001b[0;36m1\u001b[0m\u001b[0;34m,\u001b[0m\u001b[0;36m2\u001b[0m\u001b[0;34m]\u001b[0m\u001b[0;34m,\u001b[0m\u001b[0;34m[\u001b[0m\u001b[0;36m3\u001b[0m\u001b[0;34m,\u001b[0m\u001b[0;36m4\u001b[0m\u001b[0;34m]\u001b[0m\u001b[0;34m]\u001b[0m\u001b[0;34m)\u001b[0m\u001b[0;34m\u001b[0m\u001b[0m\n\u001b[0m\u001b[1;32m      2\u001b[0m \u001b[0mB\u001b[0m \u001b[0;34m=\u001b[0m \u001b[0mnp\u001b[0m\u001b[0;34m.\u001b[0m\u001b[0marray\u001b[0m\u001b[0;34m(\u001b[0m\u001b[0;34m[\u001b[0m\u001b[0;34m[\u001b[0m\u001b[0;36m1\u001b[0m\u001b[0;34m,\u001b[0m\u001b[0;36m1\u001b[0m\u001b[0;34m]\u001b[0m\u001b[0;34m,\u001b[0m\u001b[0;34m[\u001b[0m\u001b[0;36m1\u001b[0m\u001b[0;34m,\u001b[0m\u001b[0;36m1\u001b[0m\u001b[0;34m]\u001b[0m\u001b[0;34m]\u001b[0m\u001b[0;34m)\u001b[0m\u001b[0;34m\u001b[0m\u001b[0m\n\u001b[1;32m      3\u001b[0m \u001b[0mnp\u001b[0m\u001b[0;34m.\u001b[0m\u001b[0madd\u001b[0m\u001b[0;34m(\u001b[0m\u001b[0mA\u001b[0m\u001b[0;34m,\u001b[0m\u001b[0mB\u001b[0m\u001b[0;34m)\u001b[0m\u001b[0;34m\u001b[0m\u001b[0m\n",
      "\u001b[0;31mNameError\u001b[0m: name 'np' is not defined"
     ]
    }
   ],
   "source": [
    "A = np.array([[1,2],[3,4]])\n",
    "B = np.array([[1,1],[1,1]])\n",
    "np.add(A,B)"
   ]
  },
  {
   "cell_type": "markdown",
   "metadata": {},
   "source": [
    "__3.2__ Multiply the following arrays:\n",
    "$\n",
    "\\begin{bmatrix} \n",
    "1 & 2 \\\\\n",
    "\\end{bmatrix} \n",
    "\\times\n",
    "\\begin{bmatrix} \n",
    "1  \\\\\n",
    "1 \n",
    "\\end{bmatrix} \n",
    "$\n"
   ]
  },
  {
   "cell_type": "markdown",
   "metadata": {},
   "source": [
    "__3.2 Solution:__"
   ]
  },
  {
   "cell_type": "code",
   "execution_count": 124,
   "metadata": {},
   "outputs": [
    {
     "data": {
      "text/plain": [
       "array([[3]])"
      ]
     },
     "execution_count": 124,
     "metadata": {},
     "output_type": "execute_result"
    }
   ],
   "source": [
    "A = np.array([[1,2]])\n",
    "B = np.array([[1],[1]])\n",
    "np.matmul(A,B)"
   ]
  },
  {
   "cell_type": "markdown",
   "metadata": {},
   "source": [
    "__3.3__ Multiply the following arrays:\n",
    "$\n",
    "\\begin{bmatrix} \n",
    "1 & 2 \\\\\n",
    "3 & 4\n",
    "\\end{bmatrix} \n",
    "\\times\n",
    "\\begin{bmatrix} \n",
    "1 & 1 \\\\\n",
    "1 & 1\n",
    "\\end{bmatrix} \n",
    "$"
   ]
  },
  {
   "cell_type": "markdown",
   "metadata": {},
   "source": [
    "__3.3 Solution:__"
   ]
  },
  {
   "cell_type": "code",
   "execution_count": 187,
   "metadata": {},
   "outputs": [
    {
     "data": {
      "text/plain": [
       "array([[3, 3],\n",
       "       [7, 7]])"
      ]
     },
     "execution_count": 187,
     "metadata": {},
     "output_type": "execute_result"
    }
   ],
   "source": [
    "A = np.array([[1,2],[3,4]])\n",
    "B = np.array([[1,1],[1,1]])\n",
    "np.matmul(A,B)"
   ]
  },
  {
   "cell_type": "markdown",
   "metadata": {},
   "source": [
    "__3.5__ Create a length-100 integer array filled with zeros. _Hint: use function <code>np.zeros()</code>_"
   ]
  },
  {
   "cell_type": "markdown",
   "metadata": {},
   "source": [
    "__3.6__  Create a 5x6 floating point array filled with ones. _Hint: use function <code>np.ones()</code>_"
   ]
  },
  {
   "cell_type": "markdown",
   "metadata": {},
   "source": [
    "__3.7__  Create a 8x8 array filled with 3.14159. _Hint: use function <code>np.full()</code>_"
   ]
  },
  {
   "cell_type": "markdown",
   "metadata": {},
   "source": [
    "__3.8__  Create an array filled with a sequence starting at 20 ending at 80 and incrementing by 4. _Hint: use function <code>np.arange()</code>_"
   ]
  },
  {
   "cell_type": "markdown",
   "metadata": {},
   "source": [
    "__3.9__  Create a 50x50 array of uniformly distributed random number between 0 and 1. _Hint: use function <code>np.random.random()</code>_"
   ]
  },
  {
   "cell_type": "markdown",
   "metadata": {},
   "source": [
    "__3.10__  Create a 10x10 identity matrix (full of zeros except on the diagonal going from the left-top to the right-bottom) _Hint: use function <code>np.eye()</code>_"
   ]
  },
  {
   "cell_type": "markdown",
   "metadata": {},
   "source": [
    "__3.10 Solution:__"
   ]
  },
  {
   "cell_type": "code",
   "execution_count": 190,
   "metadata": {},
   "outputs": [
    {
     "data": {
      "text/plain": [
       "array([[1., 0., 0., 0., 0., 0., 0., 0., 0., 0.],\n",
       "       [0., 1., 0., 0., 0., 0., 0., 0., 0., 0.],\n",
       "       [0., 0., 1., 0., 0., 0., 0., 0., 0., 0.],\n",
       "       [0., 0., 0., 1., 0., 0., 0., 0., 0., 0.],\n",
       "       [0., 0., 0., 0., 1., 0., 0., 0., 0., 0.],\n",
       "       [0., 0., 0., 0., 0., 1., 0., 0., 0., 0.],\n",
       "       [0., 0., 0., 0., 0., 0., 1., 0., 0., 0.],\n",
       "       [0., 0., 0., 0., 0., 0., 0., 1., 0., 0.],\n",
       "       [0., 0., 0., 0., 0., 0., 0., 0., 1., 0.],\n",
       "       [0., 0., 0., 0., 0., 0., 0., 0., 0., 1.]])"
      ]
     },
     "execution_count": 190,
     "metadata": {},
     "output_type": "execute_result"
    }
   ],
   "source": [
    "np.eye(10)"
   ]
  },
  {
   "cell_type": "markdown",
   "metadata": {},
   "source": [
    "# Applications"
   ]
  },
  {
   "cell_type": "markdown",
   "metadata": {},
   "source": [
    "# Homework (not graded)\n",
    "Please complete all the exercises on this Notebook. Some exercises will be solved in class, but you should complete solving all the remaining exersices at the end of each Notebook on every class. If you can not solve an exercise, please contact the class teaching assistant for help inmmediately."
   ]
  },
  {
   "cell_type": "markdown",
   "metadata": {},
   "source": [
    "# References\n",
    "- Numpy, http://www.numpy.org/\n",
    "- Matrix multiplication, https://en.wikipedia.org/wiki/Matrix_multiplication"
   ]
  },
  {
   "cell_type": "markdown",
   "metadata": {},
   "source": [
    "_Last updated on 9.4.18 2:09am<br>\n",
    "(C) 2018 Complex Adaptive Systems Laboratory all rights reserved._"
   ]
  }
 ],
 "metadata": {
  "kernelspec": {
   "display_name": "Python 2",
   "language": "python",
   "name": "python2"
  },
  "language_info": {
   "codemirror_mode": {
    "name": "ipython",
    "version": 2
   },
   "file_extension": ".py",
   "mimetype": "text/x-python",
   "name": "python",
   "nbconvert_exporter": "python",
   "pygments_lexer": "ipython2",
   "version": "2.7.14"
  }
 },
 "nbformat": 4,
 "nbformat_minor": 2
}
