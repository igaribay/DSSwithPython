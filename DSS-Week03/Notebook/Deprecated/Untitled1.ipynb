{
 "cells": [
  {
   "cell_type": "code",
   "execution_count": 2,
   "metadata": {},
   "outputs": [],
   "source": [
    "import numpy as np"
   ]
  },
  {
   "cell_type": "markdown",
   "metadata": {},
   "source": [
    "$\n",
    "\\begin{bmatrix} \n",
    "a & b \n",
    "\\end{bmatrix}\n",
    "\\quad\n",
    "\\begin{matrix} \n",
    "a & b \\\\\n",
    "c & d \n",
    "\\end{matrix}\n",
    "\\quad\n",
    "\\begin{pmatrix} \n",
    "a & b \\\\\n",
    "c & d \n",
    "\\end{pmatrix}\n",
    "\\quad\n",
    "\\begin{bmatrix} \n",
    "a & b \\\\\n",
    "c & d \n",
    "\\end{bmatrix}\n",
    "\\quad\n",
    "\\begin{vmatrix} \n",
    "a & b \\\\\n",
    "c & d \n",
    "\\end{vmatrix}\n",
    "\\quad\n",
    "\\begin{Vmatrix} \n",
    "a & b \\\\\n",
    "c & d \n",
    "\\end{Vmatrix}\n",
    "$\n"
   ]
  },
  {
   "cell_type": "code",
   "execution_count": 40,
   "metadata": {},
   "outputs": [
    {
     "name": "stdout",
     "output_type": "stream",
     "text": [
      "[ 1 12 50  1  6]\n"
     ]
    }
   ],
   "source": [
    "MyExampleArray1D = np.array([1, \n",
    "                      12,  \n",
    "                      50,  \n",
    "                      1,  \n",
    "                      6])\n",
    "print(MyArray1D)"
   ]
  },
  {
   "cell_type": "code",
   "execution_count": 39,
   "metadata": {},
   "outputs": [
    {
     "name": "stdout",
     "output_type": "stream",
     "text": [
      "[[ 1 12 50  1  6]\n",
      " [ 1 12 50  1  6]]\n"
     ]
    }
   ],
   "source": [
    "MyArray2D = np.array([[1, 12,  50,  1,  6],      \n",
    "                      [1, 12,  50,  1,  6]])\n",
    "print(MyArray2D)\n",
    "\n"
   ]
  },
  {
   "cell_type": "code",
   "execution_count": 33,
   "metadata": {},
   "outputs": [
    {
     "name": "stdout",
     "output_type": "stream",
     "text": [
      "[[ 1 12 50  1  6]\n",
      " [ 1 12 50  1  6]]\n"
     ]
    }
   ],
   "source": [
    "MyArray2D = np.array([MyArray1D,MyArray1D])\n",
    "print(MyArray2D)"
   ]
  },
  {
   "cell_type": "code",
   "execution_count": 37,
   "metadata": {},
   "outputs": [
    {
     "name": "stdout",
     "output_type": "stream",
     "text": [
      "[[[ 1 12 50  1  6]\n",
      "  [ 1 12 50  1  6]]\n",
      "\n",
      " [[ 1 12 50  1  6]\n",
      "  [ 1 12 50  1  6]]\n",
      "\n",
      " [[ 1 12 50  1  6]\n",
      "  [ 1 12 50  1  6]]]\n"
     ]
    }
   ],
   "source": [
    "MyArray3D = np.array([[[1, 12,  50,  1,  6],\n",
    "                      [1, 12,  50,  1,  6]],\n",
    "                      \n",
    "                    [[1, 12,  50,  1,  6],\n",
    "                      [1, 12,  50,  1,  6]],\n",
    "                      \n",
    "                    [[1, 12,  50,  1,  6],\n",
    "                      [1, 12,  50,  1,  6]]])\n",
    "print(MyArray3D)\n",
    "\n",
    "\n"
   ]
  },
  {
   "cell_type": "code",
   "execution_count": null,
   "metadata": {},
   "outputs": [],
   "source": []
  },
  {
   "cell_type": "code",
   "execution_count": null,
   "metadata": {},
   "outputs": [],
   "source": []
  },
  {
   "cell_type": "code",
   "execution_count": null,
   "metadata": {},
   "outputs": [],
   "source": []
  },
  {
   "cell_type": "code",
   "execution_count": 3,
   "metadata": {},
   "outputs": [
    {
     "name": "stdout",
     "output_type": "stream",
     "text": [
      "[[1 2 3 4 5]]\n"
     ]
    }
   ],
   "source": [
    "list = [1, 2, 3, 4, 5]\n",
    "array = np.array([list])\n",
    "print(array)"
   ]
  },
  {
   "cell_type": "code",
   "execution_count": 5,
   "metadata": {},
   "outputs": [],
   "source": [
    "array2 = np.array([4,5,6])"
   ]
  },
  {
   "cell_type": "code",
   "execution_count": 6,
   "metadata": {
    "scrolled": true
   },
   "outputs": [
    {
     "name": "stdout",
     "output_type": "stream",
     "text": [
      "[4 5 6]\n"
     ]
    }
   ],
   "source": [
    "print(array2)\n"
   ]
  },
  {
   "cell_type": "code",
   "execution_count": 24,
   "metadata": {},
   "outputs": [
    {
     "name": "stdout",
     "output_type": "stream",
     "text": [
      "[[4 5 6]\n",
      " [3 2 1]]\n"
     ]
    }
   ],
   "source": [
    "array3 = np.array([[4,5,6],[3,2,1]])\n",
    "print(array3)"
   ]
  },
  {
   "cell_type": "code",
   "execution_count": 28,
   "metadata": {},
   "outputs": [
    {
     "name": "stdout",
     "output_type": "stream",
     "text": [
      "[1, 12, 50, 1, 6]\n",
      "[ 1 12 50  1  6]\n"
     ]
    },
    {
     "data": {
      "text/plain": [
       "1"
      ]
     },
     "execution_count": 28,
     "metadata": {},
     "output_type": "execute_result"
    }
   ],
   "source": [
    "List1 = [1,  12,  50,  1,  6]\n",
    "print(List1)\n",
    "MyExampleArray = np.array(List1)\n",
    "print(MyExampleArray)\n",
    "MyExampleArray.ndim\n",
    "\n",
    "\n"
   ]
  },
  {
   "cell_type": "code",
   "execution_count": 27,
   "metadata": {},
   "outputs": [
    {
     "name": "stdout",
     "output_type": "stream",
     "text": [
      "[[ 1 12 50  1  6]\n",
      " [ 1 12 50  1  6]\n",
      " [ 1 12 50  1  6]]\n"
     ]
    },
    {
     "data": {
      "text/plain": [
       "2"
      ]
     },
     "execution_count": 27,
     "metadata": {},
     "output_type": "execute_result"
    }
   ],
   "source": [
    "List1 = [1,  12,  50,  1,  6]\n",
    "MyExampleArray = np.array([List1,List1,List1])\n",
    "print(MyExampleArray)\n",
    "MyExampleArray.ndim"
   ]
  },
  {
   "cell_type": "code",
   "execution_count": 14,
   "metadata": {},
   "outputs": [
    {
     "data": {
      "text/plain": [
       "5"
      ]
     },
     "execution_count": 14,
     "metadata": {},
     "output_type": "execute_result"
    }
   ],
   "source": [
    "MyExampleArray.size"
   ]
  },
  {
   "cell_type": "code",
   "execution_count": 16,
   "metadata": {},
   "outputs": [
    {
     "data": {
      "text/plain": [
       "1"
      ]
     },
     "execution_count": 16,
     "metadata": {},
     "output_type": "execute_result"
    }
   ],
   "source": [
    "MyExampleArray.ndim"
   ]
  },
  {
   "cell_type": "code",
   "execution_count": null,
   "metadata": {},
   "outputs": [],
   "source": []
  }
 ],
 "metadata": {
  "kernelspec": {
   "display_name": "Python 2",
   "language": "python",
   "name": "python2"
  },
  "language_info": {
   "codemirror_mode": {
    "name": "ipython",
    "version": 2
   },
   "file_extension": ".py",
   "mimetype": "text/x-python",
   "name": "python",
   "nbconvert_exporter": "python",
   "pygments_lexer": "ipython2",
   "version": "2.7.15"
  }
 },
 "nbformat": 4,
 "nbformat_minor": 2
}
