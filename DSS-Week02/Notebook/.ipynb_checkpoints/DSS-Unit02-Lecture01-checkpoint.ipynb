{
 "cells": [
  {
   "cell_type": "markdown",
   "metadata": {},
   "source": [
    "# Unit 2 Lecture 1 -  Functions in Python\n",
    "\n",
    "ESI4628: Decision Support Systems for Industrial Engineers<br>\n",
    "University of Central Florida\n",
    "Dr. Ivan Garibay, Ramya Akula.<br> \n",
    "https://github.com/igaribay/DSSwithPython/blob/master/DSS-Week02/Notebook/DSS-Unit02-Lecture01.ipynb"
   ]
  },
  {
   "cell_type": "markdown",
   "metadata": {},
   "source": [
    "## Notebook Learning Objectives\n",
    "After studying this notebook students should be able to:\n",
    "- Write code using control statements such as: If, If Else, and Loops\n",
    "- Understand and use functions "
   ]
  },
  {
   "cell_type": "markdown",
   "metadata": {},
   "source": [
    "# ```If``` Statements"
   ]
  },
  {
   "cell_type": "markdown",
   "metadata": {},
   "source": [
    "The general python syntax for a ```if``` statement is\n",
    "\n",
    "```if``` condition:\n",
    "\n",
    "    statements "
   ]
  },
  {
   "cell_type": "code",
   "execution_count": 1,
   "metadata": {},
   "outputs": [
    {
     "name": "stdout",
     "output_type": "stream",
     "text": [
      "Enter your number (<100)45\n",
      "45 : greather than 10\n"
     ]
    }
   ],
   "source": [
    "number = int(input(\"Enter your number (<100)\"))\n",
    "if number > 10:\n",
    "    print (number, \": greather than 10\")\n",
    "if number == 10:\n",
    "    print (number, \": equal to 10\")\n",
    "if number < 10:\n",
    "    print (number, \": smaller than 10\")"
   ]
  },
  {
   "cell_type": "code",
   "execution_count": 2,
   "metadata": {},
   "outputs": [
    {
     "name": "stdout",
     "output_type": "stream",
     "text": [
      "Enter your number: 123\n",
      "Number is odd\n",
      "Done!\n"
     ]
    }
   ],
   "source": [
    "# odd or even\n",
    "\n",
    "num = int (input(\"Enter your number: \"))\n",
    "\n",
    "if num%2 == 0:\n",
    "    print(\"Number is Even\")\n",
    "\n",
    "if num%2 != 0:\n",
    "    print(\"Number is odd\")\n",
    "    \n",
    "    \n",
    "print(\"Done!\")"
   ]
  },
  {
   "cell_type": "code",
   "execution_count": 5,
   "metadata": {},
   "outputs": [
    {
     "name": "stdout",
     "output_type": "stream",
     "text": [
      "Enter your number 42\n",
      "210\n",
      "Done!\n"
     ]
    }
   ],
   "source": [
    "number = int(input(\"Enter your number \"))\n",
    "\n",
    "if number < 100:\n",
    "    if number%2 == 0:\n",
    "        if number%5 == 0:\n",
    "            print (number)\n",
    "        if number%5 != 0:\n",
    "            print (number * 5)\n",
    "            \n",
    "    if number%2 != 0:\n",
    "        print (number * 2)\n",
    "        \n",
    "if number >= 100:\n",
    "    print (\"The number is out of range!\")\n",
    "    \n",
    "print(\"Done!\")\n",
    "            \n",
    "        \n",
    "    "
   ]
  },
  {
   "cell_type": "markdown",
   "metadata": {},
   "source": [
    "# ```if - else``` Statements"
   ]
  },
  {
   "cell_type": "markdown",
   "metadata": {},
   "source": [
    " "
   ]
  },
  {
   "cell_type": "markdown",
   "metadata": {},
   "source": [
    "The general python syntax for a <code>If... Else</code> statement is\n",
    "<br>\n",
    "<br>\n",
    "<code>If</code> condition:<br>\n",
    "statements <br>\n",
    "   \n",
    "<code>Elif</code> condition:<br>\n",
    "    statements<br>\n",
    "   \n",
    "<code>Else</code>:<br>\n",
    "    statements\n",
    "    \n",
    " By using this statement we can simplify the previous example:"
   ]
  },
  {
   "cell_type": "code",
   "execution_count": 7,
   "metadata": {},
   "outputs": [
    {
     "name": "stdout",
     "output_type": "stream",
     "text": [
      "Enter your number (<100)46\n",
      "46 : greather than 10\n"
     ]
    }
   ],
   "source": [
    "number = int(input(\"Enter your number (<100)\"))\n",
    "if number > 10:\n",
    "    print (number, \": greather than 10\")\n",
    "elif number == 10:\n",
    "    print (number, \": equal to 10\")\n",
    "else:\n",
    "    print (number, \": smaller than 10\")"
   ]
  },
  {
   "cell_type": "code",
   "execution_count": 8,
   "metadata": {},
   "outputs": [
    {
     "name": "stdout",
     "output_type": "stream",
     "text": [
      "Enter your number: 54\n",
      "270\n",
      "Done!\n"
     ]
    }
   ],
   "source": [
    "number = int(input(\"Enter your number: \"))\n",
    "\n",
    "if number < 100:\n",
    "    if number%2 == 0:\n",
    "        if number%5 == 0:\n",
    "            print (number)\n",
    "        else:\n",
    "            print (number * 5)\n",
    "            \n",
    "    else:\n",
    "        print (number * 2)\n",
    "        \n",
    "if number > 100:\n",
    "    print (\"The number is out of range!\")\n",
    "    \n",
    "print(\"Done!\")\n",
    "            "
   ]
  },
  {
   "cell_type": "code",
   "execution_count": 10,
   "metadata": {},
   "outputs": [
    {
     "name": "stdout",
     "output_type": "stream",
     "text": [
      "How many days are in February? 28\n",
      "You got it.\n",
      "Thank you\n"
     ]
    }
   ],
   "source": [
    "# The number of days in a month\n",
    "\n",
    "days = int(input(\"How many days are in February? \"))\n",
    "\n",
    "if days == 28:\n",
    "    print(\"You got it.\")\n",
    "    \n",
    "else:\n",
    "    print(\"Try again!\")\n",
    "    \n",
    "print(\"Thank you\")"
   ]
  },
  {
   "cell_type": "markdown",
   "metadata": {},
   "source": [
    "# Loops in Python"
   ]
  },
  {
   "cell_type": "markdown",
   "metadata": {},
   "source": [
    "- When you want to repeat a fixed number of times, loops are useful to reduce the number of iterations.\n",
    "\n",
    "- There are two types of loops in python: ```for``` and ```while```"
   ]
  },
  {
   "cell_type": "markdown",
   "metadata": {},
   "source": [
    "# While loop\n",
    "\n",
    "```while``` condition:\n",
    "\n",
    "    statements"
   ]
  },
  {
   "cell_type": "code",
   "execution_count": 11,
   "metadata": {},
   "outputs": [
    {
     "name": "stdout",
     "output_type": "stream",
     "text": [
      "7\n",
      "6\n",
      "5\n",
      "4\n",
      "3\n",
      "2\n",
      "1\n"
     ]
    }
   ],
   "source": [
    "num = 7\n",
    "\n",
    "while num > 0:\n",
    "    print (num)\n",
    "    num = num - 1"
   ]
  },
  {
   "cell_type": "code",
   "execution_count": 12,
   "metadata": {},
   "outputs": [
    {
     "name": "stdout",
     "output_type": "stream",
     "text": [
      "Today is :  sunday\n",
      "Today is :  Monday\n",
      "Today is :  Tuesday\n",
      "Today is :  Wednesday\n",
      "Today is :  Thursday\n",
      "Today is :  Friday\n",
      "Today is :  Saturday\n"
     ]
    }
   ],
   "source": [
    "Day = [\"sunday\", \"Monday\", \"Tuesday\", \"Wednesday\", \"Thursday\", \"Friday\", \"Saturday\"]\n",
    "\n",
    "Count = 0\n",
    "\n",
    "while Count <= 6:\n",
    "    print (\"Today is : \", Day[Count])\n",
    "    Count = Count + 1"
   ]
  },
  {
   "cell_type": "code",
   "execution_count": 13,
   "metadata": {},
   "outputs": [
    {
     "name": "stdout",
     "output_type": "stream",
     "text": [
      "Enter your number : 3\n",
      "12\n",
      "16\n",
      "20\n",
      "5\n",
      "6\n",
      "7\n",
      "8\n",
      "3\n",
      "Done!\n"
     ]
    }
   ],
   "source": [
    "num = int(input(\"Enter your number : \"))\n",
    "\n",
    "while num < 10:\n",
    "    while num <= 5:\n",
    "        print (num * 4)\n",
    "        num = num + 1\n",
    "        \n",
    "    else:\n",
    "        print (num - 1)\n",
    "        num = num + 1\n",
    "        \n",
    "else:\n",
    "    print (num // 3)\n",
    "    num = num + 1\n",
    "    \n",
    "print(\"Done!\")"
   ]
  },
  {
   "cell_type": "code",
   "execution_count": 14,
   "metadata": {},
   "outputs": [
    {
     "name": "stdout",
     "output_type": "stream",
     "text": [
      "Enter your word: sadd\n",
      "['s', 'a', 'd', 'd']\n"
     ]
    }
   ],
   "source": [
    "Word = str (input(\"Enter your word: \")) \n",
    "\n",
    "index = 0\n",
    "List_Word = []\n",
    "\n",
    "while index < len (Word):\n",
    "    letter = Word[index]\n",
    "    List_Word.append(letter)\n",
    "    index = index + 1\n",
    "    \n",
    "print (List_Word)"
   ]
  },
  {
   "cell_type": "markdown",
   "metadata": {},
   "source": [
    "# For loop\n",
    "\n",
    "```for``` variable ```in``` iterator:\n",
    "\n",
    "    statements"
   ]
  },
  {
   "cell_type": "code",
   "execution_count": 20,
   "metadata": {},
   "outputs": [
    {
     "name": "stdout",
     "output_type": "stream",
     "text": [
      "['Python', 'C', 'Java', 'Julia', 'R', 'C++']\n"
     ]
    }
   ],
   "source": [
    "MyExampleList = [\"Python\", \"C\", \"Java\", \"Julia\", \"R\", \"C++\"]\n",
    "print (MyExampleList)"
   ]
  },
  {
   "cell_type": "code",
   "execution_count": 21,
   "metadata": {},
   "outputs": [
    {
     "name": "stdout",
     "output_type": "stream",
     "text": [
      "Python\n",
      "C\n",
      "Java\n",
      "Julia\n",
      "R\n",
      "C++\n"
     ]
    }
   ],
   "source": [
    "for l in MyExampleList:\n",
    "    print (l)"
   ]
  },
  {
   "cell_type": "code",
   "execution_count": 24,
   "metadata": {},
   "outputs": [
    {
     "name": "stdout",
     "output_type": "stream",
     "text": [
      "Enter your word: Engineering\n",
      "E\n",
      "n\n",
      "g\n",
      "i\n",
      "n\n",
      "e\n",
      "e\n",
      "r\n",
      "i\n",
      "n\n",
      "g\n"
     ]
    }
   ],
   "source": [
    "Word = str (input(\"Enter your word: \"))\n",
    "\n",
    "for letter in range (len(Word)):\n",
    "    print (Word[letter])\n",
    "    "
   ]
  },
  {
   "cell_type": "code",
   "execution_count": 25,
   "metadata": {},
   "outputs": [
    {
     "name": "stdout",
     "output_type": "stream",
     "text": [
      "2 3 6\n",
      "2 4 8\n",
      "2 5 10\n",
      "3 3 9\n",
      "3 4 12\n",
      "3 5 15\n"
     ]
    }
   ],
   "source": [
    "for x in range (2,4):\n",
    "    for y in range (3,6):\n",
    "        print (x, y, (x * y))"
   ]
  },
  {
   "cell_type": "code",
   "execution_count": 26,
   "metadata": {},
   "outputs": [
    {
     "name": "stdout",
     "output_type": "stream",
     "text": [
      "Enter your sentence: this is great\n",
      "1\n"
     ]
    }
   ],
   "source": [
    "# counting the number of specific letter in a sentence\n",
    "\n",
    "Sentence = str(input(\"Enter your sentence: \"))\n",
    "\n",
    "count = 0\n",
    "\n",
    "for char in Sentence:\n",
    "    if char == \"a\":\n",
    "        count = count + 1\n",
    "        \n",
    "print(count)"
   ]
  },
  {
   "cell_type": "markdown",
   "metadata": {},
   "source": [
    "Some more examples:\n"
   ]
  },
  {
   "cell_type": "code",
   "execution_count": 27,
   "metadata": {},
   "outputs": [
    {
     "name": "stdout",
     "output_type": "stream",
     "text": [
      "7\n",
      "6\n",
      "5\n",
      "End\n"
     ]
    }
   ],
   "source": [
    "# using \"break\" in loop \n",
    "\n",
    "value = 7\n",
    "\n",
    "while value > 0:\n",
    "    print(value)\n",
    "    value = value - 1\n",
    "    if value == 4:\n",
    "        break\n",
    "        \n",
    "print(\"End\")"
   ]
  },
  {
   "cell_type": "code",
   "execution_count": 28,
   "metadata": {},
   "outputs": [
    {
     "name": "stdout",
     "output_type": "stream",
     "text": [
      "6\n",
      "5\n",
      "3\n",
      "2\n",
      "1\n",
      "0\n",
      "End\n"
     ]
    }
   ],
   "source": [
    "# using \"continue\" in loop \n",
    "\n",
    "value = 7\n",
    "\n",
    "while value > 0:\n",
    "    value = value - 1\n",
    "    if value == 4:\n",
    "        continue\n",
    "    print (value)\n",
    "        \n",
    "print(\"End\")"
   ]
  },
  {
   "cell_type": "code",
   "execution_count": 30,
   "metadata": {
    "scrolled": true
   },
   "outputs": [
    {
     "name": "stdout",
     "output_type": "stream",
     "text": [
      "2 is prime!\n",
      "3 is prime!\n",
      "4 is not prime!\n",
      "5 is prime!\n",
      "6 is not prime!\n",
      "7 is prime!\n",
      "8 is not prime!\n",
      "9 is not prime!\n",
      "10 is not prime!\n",
      "11 is prime!\n",
      "12 is not prime!\n",
      "13 is prime!\n",
      "14 is not prime!\n",
      "15 is not prime!\n",
      "16 is not prime!\n",
      "17 is prime!\n",
      "18 is not prime!\n",
      "19 is prime!\n",
      "20 is not prime!\n",
      "21 is not prime!\n",
      "22 is not prime!\n",
      "23 is prime!\n",
      "24 is not prime!\n",
      "25 is not prime!\n",
      "26 is not prime!\n",
      "27 is not prime!\n",
      "28 is not prime!\n",
      "29 is prime!\n"
     ]
    }
   ],
   "source": [
    "# Identify the prime number\n",
    "\n",
    "for number in range (2,30):\n",
    "    for x in range (2,number):\n",
    "        if number % x == 0:\n",
    "            print (number, \"is not prime!\")\n",
    "            break               # check the result with/without break and compare them. \n",
    "    else:\n",
    "        print (number, \"is prime!\" )"
   ]
  },
  {
   "cell_type": "code",
   "execution_count": 31,
   "metadata": {},
   "outputs": [
    {
     "name": "stdout",
     "output_type": "stream",
     "text": [
      "31\n",
      "32\n",
      "33\n",
      "34\n",
      "35\n",
      "36\n",
      "37\n",
      "38\n",
      "39\n"
     ]
    }
   ],
   "source": [
    "for i in range (20,40):\n",
    "    if 20 <= i <= 30:\n",
    "        continue\n",
    "    print (i)"
   ]
  },
  {
   "cell_type": "code",
   "execution_count": 35,
   "metadata": {},
   "outputs": [
    {
     "name": "stdout",
     "output_type": "stream",
     "text": [
      "Enter your number: 4\n",
      "4 is not prime\n"
     ]
    }
   ],
   "source": [
    "number = int (input(\"Enter your number: \"))\n",
    "\n",
    "if number > 1:\n",
    "    for x in range (2,number):\n",
    "        if number % x == 0:\n",
    "            print (number, \"is not prime\")\n",
    "            break\n",
    "            \n",
    "    else:\n",
    "        print (number, \"is prime\")\n",
    "        \n",
    "else:\n",
    "    print (number, \"is not prime\")\n"
   ]
  },
  {
   "cell_type": "markdown",
   "metadata": {},
   "source": [
    "# Built-in functions\n",
    "Functions that are allways available in Python. Few examples:"
   ]
  },
  {
   "cell_type": "markdown",
   "metadata": {},
   "source": [
    "-```raw_input(prompt)```                             \n",
    "\n",
    "-```abs(x)```\n",
    "\n",
    "-```help()```\n",
    "\n",
    "-```float(obj)```\n",
    "\n",
    "-```int(obj)```\n",
    "\n",
    "-```long(obj)```\n",
    "\n",
    "-```print()```\n",
    "\n",
    "-```round()```\n",
    "\n",
    "-```type()```\n",
    "\n",
    "-```range()```\n"
   ]
  },
  {
   "cell_type": "markdown",
   "metadata": {},
   "source": [
    "# Mathematic functions\n",
    "-The math module gives access to the C library functions for floating point mathematics. Few examples:\n",
    "\n",
    "-```math.sqrt(x)```\n",
    "\n",
    "-```math.floor(x)```\n",
    "\n",
    "-```math.pow(x,y,z)```"
   ]
  },
  {
   "cell_type": "code",
   "execution_count": 36,
   "metadata": {},
   "outputs": [],
   "source": [
    "import math"
   ]
  },
  {
   "cell_type": "code",
   "execution_count": 37,
   "metadata": {},
   "outputs": [
    {
     "data": {
      "text/plain": [
       "8.0"
      ]
     },
     "execution_count": 37,
     "metadata": {},
     "output_type": "execute_result"
    }
   ],
   "source": [
    "x = 2\n",
    "y = 3\n",
    "z = 4\n",
    "math.pow(x,y)"
   ]
  },
  {
   "cell_type": "code",
   "execution_count": 38,
   "metadata": {},
   "outputs": [
    {
     "data": {
      "text/plain": [
       "3"
      ]
     },
     "execution_count": 38,
     "metadata": {},
     "output_type": "execute_result"
    }
   ],
   "source": [
    "math.floor(3.2)"
   ]
  },
  {
   "cell_type": "code",
   "execution_count": 39,
   "metadata": {},
   "outputs": [
    {
     "data": {
      "text/plain": [
       "-0.9991351502732795"
      ]
     },
     "execution_count": 39,
     "metadata": {},
     "output_type": "execute_result"
    }
   ],
   "source": [
    "math.cos(3.1)"
   ]
  },
  {
   "cell_type": "markdown",
   "metadata": {},
   "source": [
    "# Defining Functions "
   ]
  },
  {
   "cell_type": "markdown",
   "metadata": {},
   "source": [
    "If you want to define a function in python,you need to use the keyword ```def``` \n",
    "\n",
    "The structure of defining a function is like below:\n",
    "\n",
    "\n",
    "\n",
    "```def``` functionName (V,a):\n",
    "\n",
    "    statements"
   ]
  },
  {
   "cell_type": "code",
   "execution_count": 40,
   "metadata": {},
   "outputs": [
    {
     "name": "stdout",
     "output_type": "stream",
     "text": [
      "True\n"
     ]
    }
   ],
   "source": [
    "# Is a number prime?\n",
    "\n",
    "def prime (Candidate_num):\n",
    "    if Candidate_num > 1:\n",
    "        for x in range (2,Candidate_num):\n",
    "            if Candidate_num % x == 0:\n",
    "                return False\n",
    "    return True\n",
    "\n",
    "\n",
    "print (prime(23))"
   ]
  },
  {
   "cell_type": "code",
   "execution_count": 43,
   "metadata": {},
   "outputs": [
    {
     "name": "stdout",
     "output_type": "stream",
     "text": [
      "Enter your number: 234\n",
      "False\n"
     ]
    }
   ],
   "source": [
    "Number = int (input(\"Enter your number: \"))\n",
    "\n",
    "print (prime (Number))\n",
    "\n"
   ]
  },
  {
   "cell_type": "code",
   "execution_count": 44,
   "metadata": {},
   "outputs": [
    {
     "name": "stdout",
     "output_type": "stream",
     "text": [
      "5040\n"
     ]
    }
   ],
   "source": [
    "# Defining factorial function\n",
    "\n",
    "def factorial (number):\n",
    "    if number == 0:\n",
    "        return 1\n",
    "    else:\n",
    "        return number * factorial (number - 1)\n",
    "    \n",
    "    \n",
    "    \n",
    "print (factorial (7))"
   ]
  },
  {
   "cell_type": "markdown",
   "metadata": {},
   "source": [
    "# Exercises"
   ]
  },
  {
   "cell_type": "markdown",
   "metadata": {},
   "source": [
    "# Homework (not graded)\n",
    "Please complete all the exercises on this Notebook. Some exercises will be solved in class, but you should complete solving all the remaining exersices at the end of each Notebook on every class. If you can not solve an exercise, please contact the class teaching assistant for help inmmediately."
   ]
  },
  {
   "cell_type": "markdown",
   "metadata": {},
   "source": [
    "# References\n",
    "\n",
    "- If... Else, While, Lists: https://www.w3schools.com/python/python_while_loops.asp\n",
    "- Mathematics module: https://docs.python.org/2/tutorial/stdlib.html\n",
    "- Built-in functions: https://docs.python.org/2/library/functions.html\n"
   ]
  },
  {
   "cell_type": "markdown",
   "metadata": {},
   "source": [
    "_Last updated on 10.13.2022 3:46pm<br>\n",
    "(C) 2022 Complex Adaptive Systems Laboratory all rights reserved._"
   ]
  }
 ],
 "metadata": {
  "kernelspec": {
   "display_name": "Python 3 (ipykernel)",
   "language": "python",
   "name": "python3"
  },
  "language_info": {
   "codemirror_mode": {
    "name": "ipython",
    "version": 3
   },
   "file_extension": ".py",
   "mimetype": "text/x-python",
   "name": "python",
   "nbconvert_exporter": "python",
   "pygments_lexer": "ipython3",
   "version": "3.9.12"
  }
 },
 "nbformat": 4,
 "nbformat_minor": 2
}
