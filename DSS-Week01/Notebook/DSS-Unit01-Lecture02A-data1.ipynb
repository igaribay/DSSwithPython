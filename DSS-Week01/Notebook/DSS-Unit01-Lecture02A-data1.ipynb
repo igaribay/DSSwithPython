{
 "cells": [
  {
   "cell_type": "markdown",
   "metadata": {},
   "source": [
    "# Unit 1 Lecture 2A -  Data Structures in Python\n",
    "\n",
    "ESI4628: Decision Support Systems for Industrial Engineers<br>\n",
    "University of Central Florida\n",
    "Dr. Ivan Garibay, Ramya Akula, Mostafa Saeidi.<br> \n",
    "https://github.com/igaribay/DSSwithPython/blob/master/DSS-Week01/Notebook/DSS-Unit01-Lecture02A.ipynb\n"
   ]
  },
  {
   "cell_type": "markdown",
   "metadata": {},
   "source": [
    "# Notebook Learning Objectives\n",
    "After studying this notebook students should be able to:\n",
    "- Undestand variable assignments vs. equations, and calling functions\n",
    "- Undestand use and manipulate primitive data types: Integers, Floats, Strings, Boolean\n",
    "- Understand calling functions, funtion \"type\", converting values between types\n",
    "- Basic understanding of the use of arrays and lists\n",
    "\n"
   ]
  },
  {
   "cell_type": "markdown",
   "metadata": {},
   "source": [
    "# Computer Programming\n",
    "It is simply to tell computers what to do using simple but precise instructions. A programming language (like Python) is the set of all primitive instuctions avalable to you to tell the computer what to do. A combination of these primitive instructions is called a \"computer program\"."
   ]
  },
  {
   "cell_type": "markdown",
   "metadata": {},
   "source": [
    "# Python is Interpreted\n",
    "Different from other popular programming languages such as C and C++, Python is interpreted. What this means for us is that Python commands can be executed inmmediately after typing them since there is no need of compiling the code before execution.\n"
   ]
  },
  {
   "cell_type": "code",
   "execution_count": 1,
   "metadata": {},
   "outputs": [
    {
     "data": {
      "text/plain": [
       "4"
      ]
     },
     "execution_count": 1,
     "metadata": {},
     "output_type": "execute_result"
    }
   ],
   "source": [
    "2+2"
   ]
  },
  {
   "cell_type": "code",
   "execution_count": 2,
   "metadata": {},
   "outputs": [
    {
     "data": {
      "text/plain": [
       "-6"
      ]
     },
     "execution_count": 2,
     "metadata": {},
     "output_type": "execute_result"
    }
   ],
   "source": [
    "2-8"
   ]
  },
  {
   "cell_type": "code",
   "execution_count": 3,
   "metadata": {},
   "outputs": [],
   "source": [
    "x=5\n",
    "y='One small step for man, '\n",
    "a='one giant leap for mankind'\n",
    "z=6.0"
   ]
  },
  {
   "cell_type": "code",
   "execution_count": 4,
   "metadata": {
    "scrolled": true
   },
   "outputs": [
    {
     "data": {
      "text/plain": [
       "11.0"
      ]
     },
     "execution_count": 4,
     "metadata": {},
     "output_type": "execute_result"
    }
   ],
   "source": [
    "x+z"
   ]
  },
  {
   "cell_type": "code",
   "execution_count": 5,
   "metadata": {
    "scrolled": true
   },
   "outputs": [
    {
     "data": {
      "text/plain": [
       "'One small step for man, one giant leap for mankind'"
      ]
     },
     "execution_count": 5,
     "metadata": {},
     "output_type": "execute_result"
    }
   ],
   "source": [
    "y+a"
   ]
  },
  {
   "cell_type": "markdown",
   "metadata": {},
   "source": [
    "# Assigments versus equations\n",
    "In Python when we write <code>x=3</code> is means something different than in the mathematical equation $x=3$\n",
    "\n",
    "In mathemathics once we define the equation we can assume that x=3 will keep it value for the entire computation or for the entire mathematical model. In programming  <code>x=3</code> just means that 3 is the current value of <code>x</code> but it could be changed at will with the next instruction. We call this \"binding\" a variable to a value."
   ]
  },
  {
   "cell_type": "code",
   "execution_count": 9,
   "metadata": {},
   "outputs": [
    {
     "name": "stdout",
     "output_type": "stream",
     "text": [
      "hello\n",
      "The value of x is 3\n",
      "The value of x is Three\n",
      "The value of x is 3.14159\n"
     ]
    }
   ],
   "source": [
    "x=3\n",
    "print (\"hello\")\n",
    "print (\"The value of x is\", x)\n",
    "x=\"Three\"\n",
    "print (\"The value of x is\", x)\n",
    "x=3.14159\n",
    "print (\"The value of x is\", x)\n"
   ]
  },
  {
   "cell_type": "markdown",
   "metadata": {},
   "source": [
    "# Functions\n",
    "Functions in Python can be called simply by typing the function name and putting their arguments in parenthesis. Some examples follow, for a complete list of Python Build-in functions see: https://www.w3schools.com/python/python_ref_functions.asp"
   ]
  },
  {
   "cell_type": "code",
   "execution_count": 10,
   "metadata": {},
   "outputs": [
    {
     "data": {
      "text/plain": [
       "5"
      ]
     },
     "execution_count": 10,
     "metadata": {},
     "output_type": "execute_result"
    }
   ],
   "source": [
    "abs(-5)"
   ]
  },
  {
   "cell_type": "code",
   "execution_count": 11,
   "metadata": {},
   "outputs": [
    {
     "data": {
      "text/plain": [
       "100"
      ]
     },
     "execution_count": 11,
     "metadata": {},
     "output_type": "execute_result"
    }
   ],
   "source": [
    "round(99.99)"
   ]
  },
  {
   "cell_type": "code",
   "execution_count": 12,
   "metadata": {},
   "outputs": [
    {
     "data": {
      "text/plain": [
       "float"
      ]
     },
     "execution_count": 12,
     "metadata": {},
     "output_type": "execute_result"
    }
   ],
   "source": [
    "x=3.14159\n",
    "type(x)"
   ]
  },
  {
   "cell_type": "code",
   "execution_count": 11,
   "metadata": {},
   "outputs": [
    {
     "name": "stdout",
     "output_type": "stream",
     "text": [
      "5\n"
     ]
    },
    {
     "data": {
      "text/plain": [
       "'5'"
      ]
     },
     "execution_count": 11,
     "metadata": {},
     "output_type": "execute_result"
    }
   ],
   "source": [
    "input()"
   ]
  },
  {
   "cell_type": "markdown",
   "metadata": {},
   "source": [
    "# Primitive data types"
   ]
  },
  {
   "cell_type": "markdown",
   "metadata": {},
   "source": [
    "Data Structures are simply how computers store information. Below are listed the most primitive or basic data structures. These structures are the building blocks for data storage and manipulation and they contain pure, simple values of data. Python has four primitive variable types:\n",
    "\n",
    "- Integers (simple counting numbers)\n",
    "- Float (number using decimal points)\n",
    "- Strings (strings of letter or characters)\n",
    "- Boolean (boolen number can only be '0' or '1', TRUE or FALSE)"
   ]
  },
  {
   "cell_type": "markdown",
   "metadata": {},
   "source": [
    "## Floats\n",
    "- Define floats x, y\n",
    "- Assign numerical values to x, y\n",
    "- Execute basic aritmetic operation on x,y\n",
    "- How to prompt the \"user\" to setup the x and y values?\n",
    "- How to change the numerical values assigned to x,y?"
   ]
  },
  {
   "cell_type": "code",
   "execution_count": 17,
   "metadata": {},
   "outputs": [
    {
     "name": "stdout",
     "output_type": "stream",
     "text": [
      "Using + we obtain: 6.0\n",
      "Using * we obtain: 8.0\n",
      "Using / we obtain: 2.0\n",
      "Using % we obtain: 0.0\n",
      "Using abs() we obtain: 4.0\n",
      "Using ** we obtain: 16.0\n"
     ]
    }
   ],
   "source": [
    "x = 4.0\n",
    "y = 2.0\n",
    "\n",
    "print (\"Using + we obtain:\", x + y)\n",
    "print (\"Using * we obtain:\", x * y)      # returns multiplication\n",
    "print (\"Using / we obtain:\", x / y)\n",
    "print (\"Using % we obtain:\", x % y)      # Returns the remainder\n",
    "print (\"Using abs() we obtain:\", abs(x))     # Absolute value\n",
    "print (\"Using ** we obtain:\", x ** y)     # x to the power y "
   ]
  },
  {
   "cell_type": "markdown",
   "metadata": {},
   "source": [
    "## Strings"
   ]
  },
  {
   "cell_type": "code",
   "execution_count": 13,
   "metadata": {},
   "outputs": [
    {
     "data": {
      "text/plain": [
       "'Industrial Engineering & Management Systems'"
      ]
     },
     "execution_count": 13,
     "metadata": {},
     "output_type": "execute_result"
    }
   ],
   "source": [
    "# String\n",
    "\n",
    "x = \"Industrial Engineering\"\n",
    "y = \"Management Systems\"\n",
    "\n",
    "x + \" & \" + y\n"
   ]
  },
  {
   "cell_type": "markdown",
   "metadata": {},
   "source": [
    "Here are some other basic operations that you can perform with strings; For example, you can use * to repeat a string a certain number of times:"
   ]
  },
  {
   "cell_type": "code",
   "execution_count": 14,
   "metadata": {},
   "outputs": [
    {
     "data": {
      "text/plain": [
       "'Industrial EngineeringIndustrial EngineeringIndustrial Engineering'"
      ]
     },
     "execution_count": 14,
     "metadata": {},
     "output_type": "execute_result"
    }
   ],
   "source": [
    "# repeat\n",
    "\n",
    "x * 3"
   ]
  },
  {
   "cell_type": "markdown",
   "metadata": {},
   "source": [
    "You can also \"slice\" strings, which means that you select parts of strings:"
   ]
  },
  {
   "cell_type": "code",
   "execution_count": 15,
   "metadata": {},
   "outputs": [
    {
     "name": "stdout",
     "output_type": "stream",
     "text": [
      "dustrial Engineering\n",
      "Ma\n"
     ]
    }
   ],
   "source": [
    "# Range slicing\n",
    "\n",
    "stringSegment1 = x[2:]\n",
    "\n",
    "print(stringSegment1)\n",
    "\n",
    "\n",
    "# Slicing\n",
    "\n",
    "stringSegment2 = y[0] + y[1]\n",
    "\n",
    "print(stringSegment2)"
   ]
  },
  {
   "cell_type": "markdown",
   "metadata": {},
   "source": [
    "Note that strings can also be alpha-numeric characters, but that the + operation still is used to concatenate strings."
   ]
  },
  {
   "cell_type": "code",
   "execution_count": 16,
   "metadata": {},
   "outputs": [
    {
     "data": {
      "text/plain": [
       "'43'"
      ]
     },
     "execution_count": 16,
     "metadata": {},
     "output_type": "execute_result"
    }
   ],
   "source": [
    "x = \"4\"\n",
    "y = \"3\"\n",
    "\n",
    "x + y"
   ]
  },
  {
   "cell_type": "markdown",
   "metadata": {},
   "source": [
    "Some string operations: calculating string length <code>len()</code>, string in upper caps<code>upper()</code>, string in lower caps <code>lower()</code>"
   ]
  },
  {
   "cell_type": "code",
   "execution_count": 17,
   "metadata": {},
   "outputs": [
    {
     "name": "stdout",
     "output_type": "stream",
     "text": [
      "29\n",
      "UNIVERSITY OF CENTRAL FLORIDA\n",
      "university of central florida\n"
     ]
    }
   ],
   "source": [
    "a = \"University of Central Florida\"\n",
    "a_lenght = len(a)\n",
    "a_uppercased = a.upper()\n",
    "a_lowercased = a.lower()\n",
    "\n",
    "print (a_lenght)\n",
    "print (a_uppercased)\n",
    "print (a_lowercased)"
   ]
  },
  {
   "cell_type": "markdown",
   "metadata": {},
   "source": [
    "## Boolean"
   ]
  },
  {
   "cell_type": "code",
   "execution_count": 18,
   "metadata": {},
   "outputs": [
    {
     "data": {
      "text/plain": [
       "False"
      ]
     },
     "execution_count": 18,
     "metadata": {},
     "output_type": "execute_result"
    }
   ],
   "source": [
    "# Boolean\n",
    "\n",
    "x = 4\n",
    "\n",
    "y = 2\n",
    "\n",
    "x == y\n",
    "\n",
    "#x > y"
   ]
  },
  {
   "cell_type": "code",
   "execution_count": 19,
   "metadata": {},
   "outputs": [
    {
     "name": "stdout",
     "output_type": "stream",
     "text": [
      "Not Engineering\n"
     ]
    }
   ],
   "source": [
    "x = 4\n",
    "y = 6\n",
    "z = (x == y)      # Comparison expression \n",
    "\n",
    "if z:             # Conditional on truth/false value of \"z\n",
    "    print (\"Engineering\")\n",
    "else: print (\"Not Engineering\")"
   ]
  },
  {
   "cell_type": "code",
   "execution_count": 20,
   "metadata": {},
   "outputs": [
    {
     "name": "stdout",
     "output_type": "stream",
     "text": [
      "Engineering\n"
     ]
    }
   ],
   "source": [
    "z = True         # direct assigment to \"true\"\n",
    "\n",
    "if z:             # Conditional on truth/false value of \"z\n",
    "    print (\"Engineering\")\n",
    "else: print (\"Not Engineering\")"
   ]
  },
  {
   "cell_type": "markdown",
   "metadata": {},
   "source": [
    "## Function Type()\n",
    "To check the type of an object in Python, use the built-in type() function, just like in the lines of code below:"
   ]
  },
  {
   "cell_type": "code",
   "execution_count": 21,
   "metadata": {},
   "outputs": [
    {
     "data": {
      "text/plain": [
       "float"
      ]
     },
     "execution_count": 21,
     "metadata": {},
     "output_type": "execute_result"
    }
   ],
   "source": [
    "a = 4.0\n",
    "b = \"Class\"\n",
    "c = 12\n",
    "\n",
    "type(a) "
   ]
  },
  {
   "cell_type": "code",
   "execution_count": 22,
   "metadata": {},
   "outputs": [
    {
     "data": {
      "text/plain": [
       "str"
      ]
     },
     "execution_count": 22,
     "metadata": {},
     "output_type": "execute_result"
    }
   ],
   "source": [
    "type(b)"
   ]
  },
  {
   "cell_type": "code",
   "execution_count": 23,
   "metadata": {},
   "outputs": [
    {
     "data": {
      "text/plain": [
       "int"
      ]
     },
     "execution_count": 23,
     "metadata": {},
     "output_type": "execute_result"
    }
   ],
   "source": [
    "type(c)"
   ]
  },
  {
   "cell_type": "markdown",
   "metadata": {},
   "source": [
    "## Non-Primitive data structures"
   ]
  },
  {
   "cell_type": "markdown",
   "metadata": {},
   "source": [
    "#### The  non-primitive data structures in Python are divided into:\n",
    "- Lists\n",
    "- Arrays"
   ]
  },
  {
   "cell_type": "markdown",
   "metadata": {},
   "source": [
    "### Lists\n",
    "Easy to use, good for everything except numbers and calculations"
   ]
  },
  {
   "cell_type": "code",
   "execution_count": 24,
   "metadata": {},
   "outputs": [
    {
     "name": "stdout",
     "output_type": "stream",
     "text": [
      "['Ford', 'Volvo', 'BMW']\n"
     ]
    }
   ],
   "source": [
    "cars = [\"Ford\", \"Volvo\", \"BMW\"]\n",
    "print(cars)"
   ]
  },
  {
   "cell_type": "markdown",
   "metadata": {},
   "source": [
    "List can be changed:"
   ]
  },
  {
   "cell_type": "code",
   "execution_count": 25,
   "metadata": {},
   "outputs": [
    {
     "name": "stdout",
     "output_type": "stream",
     "text": [
      "['Ford', 'Volvo', 'BMW', 'Honda']\n"
     ]
    }
   ],
   "source": [
    "cars.append(\"Honda\")\n",
    "print(cars)"
   ]
  },
  {
   "cell_type": "code",
   "execution_count": 26,
   "metadata": {},
   "outputs": [
    {
     "name": "stdout",
     "output_type": "stream",
     "text": [
      "[100, 200, 280]\n",
      "100\n"
     ]
    }
   ],
   "source": [
    "gains = [100, 200, 280]\n",
    "print(gains)\n",
    "print(gains[0])"
   ]
  },
  {
   "cell_type": "code",
   "execution_count": 27,
   "metadata": {},
   "outputs": [
    {
     "data": {
      "text/plain": [
       "33.333333333333336"
      ]
     },
     "execution_count": 27,
     "metadata": {},
     "output_type": "execute_result"
    }
   ],
   "source": [
    "gains[0]/3.0"
   ]
  },
  {
   "cell_type": "code",
   "execution_count": 28,
   "metadata": {},
   "outputs": [
    {
     "ename": "TypeError",
     "evalue": "unsupported operand type(s) for /: 'list' and 'float'",
     "output_type": "error",
     "traceback": [
      "\u001b[0;31m---------------------------------------------------------------------------\u001b[0m",
      "\u001b[0;31mTypeError\u001b[0m                                 Traceback (most recent call last)",
      "Input \u001b[0;32mIn [28]\u001b[0m, in \u001b[0;36m<cell line: 1>\u001b[0;34m()\u001b[0m\n\u001b[0;32m----> 1\u001b[0m \u001b[43mgains\u001b[49m\u001b[38;5;241;43m/\u001b[39;49m\u001b[38;5;241;43m3.0\u001b[39;49m\n",
      "\u001b[0;31mTypeError\u001b[0m: unsupported operand type(s) for /: 'list' and 'float'"
     ]
    }
   ],
   "source": [
    "\n",
    "gains/3.0 #error! entire list can not be divided even if they are lists of number, that why we need....Arrays"
   ]
  },
  {
   "cell_type": "markdown",
   "metadata": {},
   "source": [
    "This ```error``` shows that a division operator is not defined for lists. We need a different kind of structure for this..."
   ]
  },
  {
   "cell_type": "markdown",
   "metadata": {},
   "source": [
    "### Arrays\n",
    "Use arrays for numbers. To use arrays, you need to \"import\" the numerical package Numpy."
   ]
  },
  {
   "cell_type": "code",
   "execution_count": 29,
   "metadata": {},
   "outputs": [
    {
     "name": "stdout",
     "output_type": "stream",
     "text": [
      "[100 200 280]\n",
      "[33.33333333 66.66666667 93.33333333]\n"
     ]
    }
   ],
   "source": [
    "import numpy as np\n",
    "\n",
    "gains2 = np.array([100, 200, 280])\n",
    "print(gains2)\n",
    "print(gains2/3.0)\n"
   ]
  },
  {
   "cell_type": "markdown",
   "metadata": {},
   "source": [
    "## Referencing variables\n",
    "- When we assign (bind) a variable to a value in Python we create a __reference__.\n",
    "\n",
    "- A reference is different from the actual value that it refers to.\n",
    "\n",
    "- Variables are names for references.\n",
    "\n",
    "Below we have variables <code>colors</code> and <code>colors2</code> both assigned to the same value <code>['red', 'blue', 'green'] </code>"
   ]
  },
  {
   "cell_type": "code",
   "execution_count": 30,
   "metadata": {},
   "outputs": [
    {
     "name": "stdout",
     "output_type": "stream",
     "text": [
      "['red', 'blue', 'green']\n",
      "['red', 'blue', 'green']\n"
     ]
    }
   ],
   "source": [
    "colors = ['red', 'blue', 'green']\n",
    "colors2 = colors\n",
    "print (colors)\n",
    "print (colors2)"
   ]
  },
  {
   "cell_type": "markdown",
   "metadata": {},
   "source": [
    "Now lets change values on variable <code>colors</code> and see what happens to <code>colors2</code>:"
   ]
  },
  {
   "cell_type": "code",
   "execution_count": 31,
   "metadata": {},
   "outputs": [
    {
     "name": "stdout",
     "output_type": "stream",
     "text": [
      "['red', 'blue', 'green', 'yellow']\n",
      "['red', 'blue', 'green', 'yellow']\n"
     ]
    }
   ],
   "source": [
    "colors.append(\"yellow\")\n",
    "print (colors)\n",
    "print (colors2)"
   ]
  },
  {
   "cell_type": "markdown",
   "metadata": {},
   "source": [
    "# Exercises"
   ]
  },
  {
   "cell_type": "markdown",
   "metadata": {},
   "source": [
    "__1.__ Calculate the following mathematical expression using Phyton: \n",
    "$6x^5+x^2$ , for a value of $x=4$\n"
   ]
  },
  {
   "cell_type": "markdown",
   "metadata": {},
   "source": [
    "__2.__ Calculate the expression in above exercise but for x=2500"
   ]
  },
  {
   "cell_type": "markdown",
   "metadata": {},
   "source": [
    "__3.__ Calculate the following mathematical expression using Phyton: \n",
    "$\\dfrac{6x^5}{y}+x^2+\\sqrt{xy}$ , for a value of $x=4$ and $y=46$"
   ]
  },
  {
   "cell_type": "markdown",
   "metadata": {},
   "source": [
    "__4.__ Create a variable string1 with value \"Desicion Support Systems\". Using string \"slicing\" extract the word \"Support\" from string1"
   ]
  },
  {
   "cell_type": "markdown",
   "metadata": {},
   "source": [
    "__5.__ Create a list with the following values: \"one\", \"two\", \"three\". Then use function \"append\" to add to this list the element \"four\"."
   ]
  },
  {
   "cell_type": "markdown",
   "metadata": {},
   "source": [
    "__6.__ Create an \"array\" wiht values (3,5,8,122). Multiply this array by 5 and display the answer."
   ]
  },
  {
   "cell_type": "markdown",
   "metadata": {},
   "source": [
    "# Applications"
   ]
  },
  {
   "cell_type": "markdown",
   "metadata": {},
   "source": [
    "# Homework (not graded)\n",
    "Please complete all the exercises on this Notebook. Some exercises will be solved in class, but you should complete solving all the remaining exersices at the end of each Notebook on every class. If you can not solve an exercise, please contact the class teaching assistant for help inmmediately."
   ]
  },
  {
   "cell_type": "markdown",
   "metadata": {},
   "source": [
    "_Last updated on 10.25.2022 9:27am<br>\n",
    "(C) 2022 Complex Adaptive Systems Laboratory all rights reserved._"
   ]
  },
  {
   "cell_type": "code",
   "execution_count": null,
   "metadata": {},
   "outputs": [],
   "source": []
  }
 ],
 "metadata": {
  "kernelspec": {
   "display_name": "Python 3 (ipykernel)",
   "language": "python",
   "name": "python3"
  },
  "language_info": {
   "codemirror_mode": {
    "name": "ipython",
    "version": 3
   },
   "file_extension": ".py",
   "mimetype": "text/x-python",
   "name": "python",
   "nbconvert_exporter": "python",
   "pygments_lexer": "ipython3",
   "version": "3.9.12"
  }
 },
 "nbformat": 4,
 "nbformat_minor": 2
}
