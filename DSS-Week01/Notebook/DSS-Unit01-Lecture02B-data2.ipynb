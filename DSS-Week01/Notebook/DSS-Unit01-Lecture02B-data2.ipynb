{
 "cells": [
  {
   "cell_type": "markdown",
   "metadata": {},
   "source": [
    "# Unit 1 Lecture 2B -  Data Structures in Python (continuation)\n",
    "\n",
    "ESI4628: Decision Support Systems for Industrial Engineers<br>\n",
    "University of Central Florida\n",
    "Dr. Ivan Garibay, Ramya Akula.<br> \n",
    "https://github.com/igaribay/DSSwithPython/blob/master/DSS-Week01/Notebook/DSS-Unit01-Lecture02B-data2.ipynb\n"
   ]
  },
  {
   "cell_type": "markdown",
   "metadata": {},
   "source": [
    "## Notebook Learning Objectives\n",
    "After studying this notebook students should be able to:\n",
    "- Undestand, use and manipulate data structures that store \"collections\" of items: lists, tupples, dictionaries, and sets"
   ]
  },
  {
   "cell_type": "markdown",
   "metadata": {},
   "source": [
    "# List\n",
    "- Lists in Python are simply collections of data\n",
    "- Lists can contain strings, integers, floats, etc.\n",
    "- Lists are ordered: each objects on the list is assigned a number called the index\n",
    "- Lists are \"mutable\": we can update elements of the list at will"
   ]
  },
  {
   "cell_type": "code",
   "execution_count": 1,
   "metadata": {},
   "outputs": [
    {
     "name": "stdout",
     "output_type": "stream",
     "text": [
      "['Python', 'C', 'Java', 'Julia', 'R', 'C++']\n"
     ]
    }
   ],
   "source": [
    "MyExampleList = [\"Python\", \"C\", \"Java\", \"Julia\", \"R\", \"C++\"]\n",
    "print (MyExampleList)"
   ]
  },
  {
   "cell_type": "markdown",
   "metadata": {},
   "source": [
    "### Accessing Values in Lists"
   ]
  },
  {
   "cell_type": "code",
   "execution_count": 2,
   "metadata": {},
   "outputs": [
    {
     "data": {
      "text/plain": [
       "'C'"
      ]
     },
     "execution_count": 2,
     "metadata": {},
     "output_type": "execute_result"
    }
   ],
   "source": [
    "MyExampleList[1]"
   ]
  },
  {
   "cell_type": "code",
   "execution_count": 3,
   "metadata": {},
   "outputs": [
    {
     "data": {
      "text/plain": [
       "'C'"
      ]
     },
     "execution_count": 3,
     "metadata": {},
     "output_type": "execute_result"
    }
   ],
   "source": [
    "MyExampleList[1]"
   ]
  },
  {
   "cell_type": "code",
   "execution_count": 4,
   "metadata": {},
   "outputs": [
    {
     "data": {
      "text/plain": [
       "'Julia'"
      ]
     },
     "execution_count": 4,
     "metadata": {},
     "output_type": "execute_result"
    }
   ],
   "source": [
    "MyExampleList[3]"
   ]
  },
  {
   "cell_type": "code",
   "execution_count": 5,
   "metadata": {},
   "outputs": [
    {
     "data": {
      "text/plain": [
       "['C', 'Java']"
      ]
     },
     "execution_count": 5,
     "metadata": {},
     "output_type": "execute_result"
    }
   ],
   "source": [
    "MyExampleList[1:3]"
   ]
  },
  {
   "cell_type": "code",
   "execution_count": 6,
   "metadata": {},
   "outputs": [
    {
     "data": {
      "text/plain": [
       "['Java', 'Julia', 'R', 'C++']"
      ]
     },
     "execution_count": 6,
     "metadata": {},
     "output_type": "execute_result"
    }
   ],
   "source": [
    "MyExampleList[2:]"
   ]
  },
  {
   "cell_type": "code",
   "execution_count": 7,
   "metadata": {},
   "outputs": [
    {
     "name": "stdout",
     "output_type": "stream",
     "text": [
      "6\n"
     ]
    }
   ],
   "source": [
    "Length = len(MyExampleList)\n",
    "print(Length)"
   ]
  },
  {
   "cell_type": "code",
   "execution_count": 8,
   "metadata": {},
   "outputs": [
    {
     "name": "stdout",
     "output_type": "stream",
     "text": [
      "C++\n"
     ]
    }
   ],
   "source": [
    "print(MyExampleList[Length - 1])"
   ]
  },
  {
   "cell_type": "code",
   "execution_count": 2,
   "metadata": {},
   "outputs": [
    {
     "data": {
      "text/plain": [
       "'y'"
      ]
     },
     "execution_count": 2,
     "metadata": {},
     "output_type": "execute_result"
    }
   ],
   "source": [
    "MyExampleList[0][1]"
   ]
  },
  {
   "cell_type": "code",
   "execution_count": 10,
   "metadata": {},
   "outputs": [
    {
     "data": {
      "text/plain": [
       "('Java', 'Java')"
      ]
     },
     "execution_count": 10,
     "metadata": {},
     "output_type": "execute_result"
    }
   ],
   "source": [
    "MyExampleList[-4] , MyExampleList[2]"
   ]
  },
  {
   "cell_type": "code",
   "execution_count": 11,
   "metadata": {},
   "outputs": [
    {
     "data": {
      "text/plain": [
       "7"
      ]
     },
     "execution_count": 11,
     "metadata": {},
     "output_type": "execute_result"
    }
   ],
   "source": [
    "Day = [\"Sunday\", \"Monday\", \"Tuesday\", \"Wednwsday\", \"Thursday\", \"Friday\", \"Saturday\"]\n",
    "len(Day)"
   ]
  },
  {
   "cell_type": "code",
   "execution_count": 12,
   "metadata": {},
   "outputs": [
    {
     "name": "stdout",
     "output_type": "stream",
     "text": [
      "Today is:  Sunday\n"
     ]
    }
   ],
   "source": [
    "count = 0\n",
    "print(\"Today is: \", Day[count])"
   ]
  },
  {
   "cell_type": "code",
   "execution_count": 13,
   "metadata": {},
   "outputs": [
    {
     "name": "stdout",
     "output_type": "stream",
     "text": [
      "Today is:  Thursday\n"
     ]
    }
   ],
   "source": [
    "count = 4\n",
    "print(\"Today is: \", Day[count])"
   ]
  },
  {
   "cell_type": "markdown",
   "metadata": {},
   "source": [
    "### Updating Lists"
   ]
  },
  {
   "cell_type": "code",
   "execution_count": 14,
   "metadata": {},
   "outputs": [
    {
     "name": "stdout",
     "output_type": "stream",
     "text": [
      "['Python', 'Scala', 'Java', 'Julia', 'R', 'C++']\n"
     ]
    }
   ],
   "source": [
    "MyExampleList[1]=\"Scala\"\n",
    "print (MyExampleList)"
   ]
  },
  {
   "cell_type": "code",
   "execution_count": 15,
   "metadata": {},
   "outputs": [],
   "source": [
    "List1 = [\"chemistry\", \"2015\", \"math\", \"1999\"]"
   ]
  },
  {
   "cell_type": "code",
   "execution_count": 16,
   "metadata": {},
   "outputs": [
    {
     "name": "stdout",
     "output_type": "stream",
     "text": [
      "['physics', '2015', 'math', '1999']\n"
     ]
    }
   ],
   "source": [
    "List1[0] = \"physics\"\n",
    "print(List1)"
   ]
  },
  {
   "cell_type": "code",
   "execution_count": 17,
   "metadata": {},
   "outputs": [
    {
     "name": "stdout",
     "output_type": "stream",
     "text": [
      "['physics', '2015', 'music', '2018']\n"
     ]
    }
   ],
   "source": [
    "List1[2:] = [\"music\", \"2018\"]\n",
    "print(List1)"
   ]
  },
  {
   "cell_type": "code",
   "execution_count": 18,
   "metadata": {},
   "outputs": [],
   "source": [
    "List2 = [\"class1\", \"class2\"]"
   ]
  },
  {
   "cell_type": "code",
   "execution_count": 19,
   "metadata": {},
   "outputs": [
    {
     "name": "stdout",
     "output_type": "stream",
     "text": [
      "['physics', '2015', 'music', '2018', 'class1', 'class2']\n"
     ]
    }
   ],
   "source": [
    "List3 = List1 + List2\n",
    "print(List3)"
   ]
  },
  {
   "cell_type": "code",
   "execution_count": 20,
   "metadata": {},
   "outputs": [
    {
     "name": "stdout",
     "output_type": "stream",
     "text": [
      "['physics', '2015', 'music', '2018', 'class1', 'class2', 'physics', '2015', 'music', '2018', 'class1', 'class2']\n"
     ]
    }
   ],
   "source": [
    "List3 = List3*2\n",
    "print(List3)"
   ]
  },
  {
   "cell_type": "markdown",
   "metadata": {},
   "source": [
    "### Delete List Elements"
   ]
  },
  {
   "cell_type": "code",
   "execution_count": 21,
   "metadata": {},
   "outputs": [
    {
     "name": "stdout",
     "output_type": "stream",
     "text": [
      "['Python', 'Java', 'Julia', 'R', 'C++']\n"
     ]
    }
   ],
   "source": [
    "del MyExampleList[1]\n",
    "print (MyExampleList)"
   ]
  },
  {
   "cell_type": "code",
   "execution_count": 22,
   "metadata": {},
   "outputs": [
    {
     "name": "stdout",
     "output_type": "stream",
     "text": [
      "['physics', '2015', 'music', '2018']\n"
     ]
    }
   ],
   "source": [
    "print(List1)"
   ]
  },
  {
   "cell_type": "code",
   "execution_count": 23,
   "metadata": {},
   "outputs": [
    {
     "name": "stdout",
     "output_type": "stream",
     "text": [
      "List1 after deleting opperation is: ['physics', '2015']\n"
     ]
    }
   ],
   "source": [
    "del List1[2:4]\n",
    "print(\"List1 after deleting opperation is:\", List1)"
   ]
  },
  {
   "cell_type": "markdown",
   "metadata": {},
   "source": [
    "### Methods in List"
   ]
  },
  {
   "cell_type": "markdown",
   "metadata": {},
   "source": [
    "```Name.append (x)``` : Add an item to the end of the list.\n",
    "\n",
    "```Name.remove (x)``` : Remove the first item from the list.\n",
    "\n",
    "```Name.index (x)``` : Return zero-based index in the list of the first item.\n",
    "\n",
    "```Name.count (x)``` : Return the number of times x appears in the list.\n",
    "\n",
    "```Name.extend (x)``` : Extend the list by appending all the items from the iterable.\n",
    "\n",
    "```Name.insert (I,x)``` : Insert an item at a given position.\n",
    "\n",
    "```Name.sort ()``` : Sort the items of the list in place. "
   ]
  },
  {
   "cell_type": "markdown",
   "metadata": {},
   "source": [
    "Applying these methods in an example:"
   ]
  },
  {
   "cell_type": "code",
   "execution_count": 24,
   "metadata": {},
   "outputs": [
    {
     "name": "stdout",
     "output_type": "stream",
     "text": [
      "['math', 'physics', 'art', 'algebra']\n"
     ]
    }
   ],
   "source": [
    "Listx = [\"math\" , \"physics\" , \"art\"]\n",
    "Listx.append(\"algebra\")\n",
    "print(Listx)"
   ]
  },
  {
   "cell_type": "code",
   "execution_count": 25,
   "metadata": {},
   "outputs": [
    {
     "name": "stdout",
     "output_type": "stream",
     "text": [
      "['math', 'physics', 'algebra']\n"
     ]
    }
   ],
   "source": [
    "Listx.remove(\"art\")\n",
    "print(Listx)"
   ]
  },
  {
   "cell_type": "code",
   "execution_count": 26,
   "metadata": {},
   "outputs": [
    {
     "data": {
      "text/plain": [
       "1"
      ]
     },
     "execution_count": 26,
     "metadata": {},
     "output_type": "execute_result"
    }
   ],
   "source": [
    "Listx.index(\"physics\")"
   ]
  },
  {
   "cell_type": "code",
   "execution_count": 27,
   "metadata": {},
   "outputs": [
    {
     "data": {
      "text/plain": [
       "1"
      ]
     },
     "execution_count": 27,
     "metadata": {},
     "output_type": "execute_result"
    }
   ],
   "source": [
    "Listx.count(\"algebra\")"
   ]
  },
  {
   "cell_type": "code",
   "execution_count": 28,
   "metadata": {},
   "outputs": [
    {
     "name": "stdout",
     "output_type": "stream",
     "text": [
      "['math', 'physics', 'algebra', '17', '19', '20']\n"
     ]
    }
   ],
   "source": [
    "Listy = [\"17\" , \"19\" , \"20\"]\n",
    "\n",
    "Listx.extend(Listy)\n",
    "print(Listx)"
   ]
  },
  {
   "cell_type": "code",
   "execution_count": 29,
   "metadata": {},
   "outputs": [
    {
     "data": {
      "text/plain": [
       "[1, 2, 3, 4, 7, 9]"
      ]
     },
     "execution_count": 29,
     "metadata": {},
     "output_type": "execute_result"
    }
   ],
   "source": [
    "Listz = [1,4,9,2,3,7]\n",
    "Listz.sort()\n",
    "Listz"
   ]
  },
  {
   "cell_type": "markdown",
   "metadata": {},
   "source": [
    "# Tuples "
   ]
  },
  {
   "cell_type": "markdown",
   "metadata": {},
   "source": [
    "A tuple consist of a number of objects which seperated by commas with or without parentheses, for instance:"
   ]
  },
  {
   "cell_type": "code",
   "execution_count": 3,
   "metadata": {},
   "outputs": [],
   "source": [
    "Tuple = (\"d\", 12, \"b17\", \"21!\")\n",
    "Tuple1 = \"f\", \"bd\", 12"
   ]
  },
  {
   "cell_type": "code",
   "execution_count": 4,
   "metadata": {},
   "outputs": [
    {
     "data": {
      "text/plain": [
       "'d'"
      ]
     },
     "execution_count": 4,
     "metadata": {},
     "output_type": "execute_result"
    }
   ],
   "source": [
    "Tuple[0]"
   ]
  },
  {
   "cell_type": "code",
   "execution_count": 5,
   "metadata": {},
   "outputs": [
    {
     "data": {
      "text/plain": [
       "(12, 'b17')"
      ]
     },
     "execution_count": 5,
     "metadata": {},
     "output_type": "execute_result"
    }
   ],
   "source": [
    "Tuple[1:3]"
   ]
  },
  {
   "cell_type": "markdown",
   "metadata": {},
   "source": [
    " empty tuple is usually constructed by an empty parentheses, while a tuple with one item is constructed by following a value with a comma after it\n"
   ]
  },
  {
   "cell_type": "code",
   "execution_count": 6,
   "metadata": {},
   "outputs": [
    {
     "data": {
      "text/plain": [
       "0"
      ]
     },
     "execution_count": 6,
     "metadata": {},
     "output_type": "execute_result"
    }
   ],
   "source": [
    "Tuple_empty = ()\n",
    "Tuple_single = (123),\n",
    "len(Tuple_empty)"
   ]
  },
  {
   "cell_type": "code",
   "execution_count": 34,
   "metadata": {},
   "outputs": [
    {
     "data": {
      "text/plain": [
       "1"
      ]
     },
     "execution_count": 34,
     "metadata": {},
     "output_type": "execute_result"
    }
   ],
   "source": [
    "len(Tuple_single)"
   ]
  },
  {
   "cell_type": "markdown",
   "metadata": {},
   "source": [
    "Unlike lists, tuples are immutable:"
   ]
  },
  {
   "cell_type": "code",
   "execution_count": 35,
   "metadata": {},
   "outputs": [
    {
     "ename": "TypeError",
     "evalue": "'tuple' object does not support item assignment",
     "output_type": "error",
     "traceback": [
      "\u001b[0;31m---------------------------------------------------------------------------\u001b[0m",
      "\u001b[0;31mTypeError\u001b[0m                                 Traceback (most recent call last)",
      "Input \u001b[0;32mIn [35]\u001b[0m, in \u001b[0;36m<cell line: 2>\u001b[0;34m()\u001b[0m\n\u001b[1;32m      1\u001b[0m T1 \u001b[38;5;241m=\u001b[39m (\u001b[38;5;241m100\u001b[39m,\u001b[38;5;241m200\u001b[39m,\u001b[38;5;241m300\u001b[39m,\u001b[38;5;241m400\u001b[39m,\u001b[38;5;241m500\u001b[39m)\n\u001b[0;32m----> 2\u001b[0m T1[\u001b[38;5;241m0\u001b[39m] \u001b[38;5;241m=\u001b[39m \u001b[38;5;241m700\u001b[39m\n",
      "\u001b[0;31mTypeError\u001b[0m: 'tuple' object does not support item assignment"
     ]
    }
   ],
   "source": [
    "T1 = (100,200,300,400,500)\n",
    "T1[0] = 700"
   ]
  },
  {
   "cell_type": "markdown",
   "metadata": {},
   "source": [
    "This ```error``` shows that tuples are immutable and you are not allowed to replace its objects with new objects. So we can create a new tuple includes new objects."
   ]
  },
  {
   "cell_type": "code",
   "execution_count": 36,
   "metadata": {},
   "outputs": [
    {
     "name": "stdout",
     "output_type": "stream",
     "text": [
      "(700, 200, 300, 400, 500)\n"
     ]
    }
   ],
   "source": [
    "T2 = (700,) + T1[1:]\n",
    "print(T2)"
   ]
  },
  {
   "cell_type": "code",
   "execution_count": 37,
   "metadata": {},
   "outputs": [
    {
     "data": {
      "text/plain": [
       "(100, 200, 300, 400, 500, 800, 900)"
      ]
     },
     "execution_count": 37,
     "metadata": {},
     "output_type": "execute_result"
    }
   ],
   "source": [
    "T1 + (800,900)"
   ]
  },
  {
   "cell_type": "code",
   "execution_count": 38,
   "metadata": {},
   "outputs": [
    {
     "name": "stdout",
     "output_type": "stream",
     "text": [
      "Today is:  Sunday\n"
     ]
    }
   ],
   "source": [
    "Day = (\"Sunday\", \"Monday\", \"Tuesday\", \"Wednesday\")\n",
    "count = 0\n",
    "print(\"Today is: \", Day[count])"
   ]
  },
  {
   "cell_type": "markdown",
   "metadata": {},
   "source": [
    "Tuple and sub-tuple:"
   ]
  },
  {
   "cell_type": "code",
   "execution_count": 39,
   "metadata": {},
   "outputs": [
    {
     "data": {
      "text/plain": [
       "4"
      ]
     },
     "execution_count": 39,
     "metadata": {},
     "output_type": "execute_result"
    }
   ],
   "source": [
    "Class = (\"Math\", \"Physics\", \"Algebra\", \"Art\")\n",
    "len(Class)"
   ]
  },
  {
   "cell_type": "code",
   "execution_count": 40,
   "metadata": {},
   "outputs": [
    {
     "data": {
      "text/plain": [
       "4"
      ]
     },
     "execution_count": 40,
     "metadata": {},
     "output_type": "execute_result"
    }
   ],
   "source": [
    "Class1 = ((\"Math1\", \"Math2\", \"Math3\"), (\"Physics1\", \"Physics2\"), \"Algebra\", \"Art\")\n",
    "len(Class1)"
   ]
  },
  {
   "cell_type": "markdown",
   "metadata": {},
   "source": [
    "### Methods in Tuple"
   ]
  },
  {
   "cell_type": "markdown",
   "metadata": {},
   "source": [
    "```Name.index (x)``` : Return zero-based index in the tuple of the first item.\n",
    "\n",
    "```Name.count (x)``` : Return the number of times x appears in the tuple."
   ]
  },
  {
   "cell_type": "code",
   "execution_count": 41,
   "metadata": {},
   "outputs": [
    {
     "data": {
      "text/plain": [
       "4"
      ]
     },
     "execution_count": 41,
     "metadata": {},
     "output_type": "execute_result"
    }
   ],
   "source": [
    "T3 = (\"a\", \"b\", \"c\", \"d\", \"e\", \"f\", \"d\", \"b\", \"d\")\n",
    "T3.index(\"e\")"
   ]
  },
  {
   "cell_type": "code",
   "execution_count": 42,
   "metadata": {},
   "outputs": [
    {
     "data": {
      "text/plain": [
       "3"
      ]
     },
     "execution_count": 42,
     "metadata": {},
     "output_type": "execute_result"
    }
   ],
   "source": [
    "T3.count(\"d\")"
   ]
  },
  {
   "cell_type": "markdown",
   "metadata": {},
   "source": [
    "# Dictionary"
   ]
  },
  {
   "cell_type": "markdown",
   "metadata": {},
   "source": [
    "A dictionary includes ```keys``` and ```values```. Any key of the dictionary is associated to a value. For dictionary we use braces {} and each key is separated from its value by a colon (:), each value is separated by commas.\n",
    "\n",
    "Keys in a dictionary are uniqe, while values in a dictionary can be repeated."
   ]
  },
  {
   "cell_type": "code",
   "execution_count": 43,
   "metadata": {},
   "outputs": [
    {
     "name": "stdout",
     "output_type": "stream",
     "text": [
      "{'Math': 'A', 'Physics': 'A', 'Art': 'B', 'Algebra': 'c'}\n"
     ]
    }
   ],
   "source": [
    "dic1 = {\"Math\":\"A\", \"Physics\":\"A\", \"Art\":\"B\", \"Algebra\":\"c\"}\n",
    "print(dic1)"
   ]
  },
  {
   "cell_type": "code",
   "execution_count": 44,
   "metadata": {},
   "outputs": [
    {
     "name": "stdout",
     "output_type": "stream",
     "text": [
      "dic2['Name']:  Bob\n",
      "dic2['Age']:  19\n"
     ]
    }
   ],
   "source": [
    "dic2 = {\"Name\": \"Bob\", \"Age\": 19, \"Color\": \"White\"}\n",
    "print(\"dic2['Name']: \", dic2['Name'])\n",
    "print(\"dic2['Age']: \", dic2['Age'])"
   ]
  },
  {
   "cell_type": "markdown",
   "metadata": {},
   "source": [
    "### Updating Dictionary"
   ]
  },
  {
   "cell_type": "markdown",
   "metadata": {},
   "source": [
    "Dictionary likes lists are mutable, So you can replace its objects with new ones and update it."
   ]
  },
  {
   "cell_type": "code",
   "execution_count": 45,
   "metadata": {},
   "outputs": [
    {
     "name": "stdout",
     "output_type": "stream",
     "text": [
      "{'Name': 'Bob', 'Age': 23, 'Color': 'White', 'Status': 'single'}\n"
     ]
    }
   ],
   "source": [
    "dic2 = {\"Name\": \"Bob\", \"Age\": 19, \"Color\": \"White\"}\n",
    "dic2[\"Age\"] = 23    # update existing entry\n",
    "dic2[\"Status\"] = \"single\"   # Add new entry\n",
    "print(dic2)"
   ]
  },
  {
   "cell_type": "markdown",
   "metadata": {},
   "source": [
    "### Delete Dictionary Elements"
   ]
  },
  {
   "cell_type": "code",
   "execution_count": 46,
   "metadata": {},
   "outputs": [
    {
     "name": "stdout",
     "output_type": "stream",
     "text": [
      "{'Age': 23, 'Color': 'White', 'Status': 'single'}\n"
     ]
    }
   ],
   "source": [
    "del dic2['Name']     # remove one entry from dictionary\n",
    "print (dic2)"
   ]
  },
  {
   "cell_type": "code",
   "execution_count": 47,
   "metadata": {},
   "outputs": [
    {
     "ename": "NameError",
     "evalue": "name 'dic2' is not defined",
     "output_type": "error",
     "traceback": [
      "\u001b[0;31m---------------------------------------------------------------------------\u001b[0m",
      "\u001b[0;31mNameError\u001b[0m                                 Traceback (most recent call last)",
      "Input \u001b[0;32mIn [47]\u001b[0m, in \u001b[0;36m<cell line: 2>\u001b[0;34m()\u001b[0m\n\u001b[1;32m      1\u001b[0m \u001b[38;5;28;01mdel\u001b[39;00m dic2          \u001b[38;5;66;03m#  delete entire dictionary. We don't have this dictionary any more\u001b[39;00m\n\u001b[0;32m----> 2\u001b[0m \u001b[38;5;28mprint\u001b[39m(\u001b[43mdic2\u001b[49m)\n",
      "\u001b[0;31mNameError\u001b[0m: name 'dic2' is not defined"
     ]
    }
   ],
   "source": [
    "del dic2          #  delete entire dictionary. We don't have this dictionary any more\n",
    "print(dic2)"
   ]
  },
  {
   "cell_type": "markdown",
   "metadata": {},
   "source": [
    "This ```error``` shows that since dic2 has been deleted, it can not longer be printed."
   ]
  },
  {
   "cell_type": "markdown",
   "metadata": {},
   "source": [
    "### Methods in Dictionary"
   ]
  },
  {
   "cell_type": "markdown",
   "metadata": {},
   "source": [
    "```dic.copy()``` : Returne a copy of dictionary.\n",
    "\n",
    "```dic.clear()``` : Remove all items of dictionary.\n",
    "\n",
    "```dic.keys()``` : Return list of dictionary' s keys.\n",
    "\n",
    "```dic.values()``` : Return list of dictionary' s values.\n",
    "\n",
    "```dic.items()``` : Return dictionary' s pairs (key, value)\n",
    "\n",
    "```dic.get()``` : Return a value for the given key. If key is not available then returns None."
   ]
  },
  {
   "cell_type": "code",
   "execution_count": 48,
   "metadata": {},
   "outputs": [
    {
     "data": {
      "text/plain": [
       "4"
      ]
     },
     "execution_count": 48,
     "metadata": {},
     "output_type": "execute_result"
    }
   ],
   "source": [
    "seasons = {\"first\":\"spring\", \"second\":\"summer\", \"third\":\"fall\", \"fourth\":\"winter\"}\n",
    "\n",
    "\n",
    "len(seasons)"
   ]
  },
  {
   "cell_type": "code",
   "execution_count": 49,
   "metadata": {},
   "outputs": [
    {
     "data": {
      "text/plain": [
       "{'first': 'spring', 'second': 'summer', 'third': 'fall', 'fourth': 'winter'}"
      ]
     },
     "execution_count": 49,
     "metadata": {},
     "output_type": "execute_result"
    }
   ],
   "source": [
    "seasons_new = seasons.copy()   # create a new dictionary randomly\n",
    "seasons_new"
   ]
  },
  {
   "cell_type": "code",
   "execution_count": 50,
   "metadata": {},
   "outputs": [
    {
     "name": "stdout",
     "output_type": "stream",
     "text": [
      "{}\n"
     ]
    }
   ],
   "source": [
    "seasons_new.clear()\n",
    "print(seasons_new)     "
   ]
  },
  {
   "cell_type": "code",
   "execution_count": 51,
   "metadata": {},
   "outputs": [
    {
     "data": {
      "text/plain": [
       "dict_keys(['first', 'second', 'third', 'fourth'])"
      ]
     },
     "execution_count": 51,
     "metadata": {},
     "output_type": "execute_result"
    }
   ],
   "source": [
    "seasons.keys()"
   ]
  },
  {
   "cell_type": "code",
   "execution_count": 52,
   "metadata": {},
   "outputs": [
    {
     "data": {
      "text/plain": [
       "dict_values(['spring', 'summer', 'fall', 'winter'])"
      ]
     },
     "execution_count": 52,
     "metadata": {},
     "output_type": "execute_result"
    }
   ],
   "source": [
    "seasons.values()"
   ]
  },
  {
   "cell_type": "code",
   "execution_count": 53,
   "metadata": {},
   "outputs": [
    {
     "data": {
      "text/plain": [
       "dict_items([('first', 'spring'), ('second', 'summer'), ('third', 'fall'), ('fourth', 'winter')])"
      ]
     },
     "execution_count": 53,
     "metadata": {},
     "output_type": "execute_result"
    }
   ],
   "source": [
    "seasons.items()"
   ]
  },
  {
   "cell_type": "markdown",
   "metadata": {},
   "source": [
    "#### Create a matrix using dictionary"
   ]
  },
  {
   "cell_type": "code",
   "execution_count": 54,
   "metadata": {},
   "outputs": [
    {
     "data": {
      "text/plain": [
       "6"
      ]
     },
     "execution_count": 54,
     "metadata": {},
     "output_type": "execute_result"
    }
   ],
   "source": [
    "matrix = {(0,0):0, (0,1):2, (0,2):4, (1,0):-2, (1,1):0, (1,2):3}\n",
    "len(matrix)"
   ]
  },
  {
   "cell_type": "code",
   "execution_count": 55,
   "metadata": {},
   "outputs": [
    {
     "data": {
      "text/plain": [
       "0"
      ]
     },
     "execution_count": 55,
     "metadata": {},
     "output_type": "execute_result"
    }
   ],
   "source": [
    "matrix[(1,1)]"
   ]
  },
  {
   "cell_type": "code",
   "execution_count": 56,
   "metadata": {},
   "outputs": [
    {
     "data": {
      "text/plain": [
       "0"
      ]
     },
     "execution_count": 56,
     "metadata": {},
     "output_type": "execute_result"
    }
   ],
   "source": [
    "matrix.get((2,2), 0)   # using dic.get() function. If the key is not in  the dictionary return 0, otherwise return its value."
   ]
  },
  {
   "cell_type": "code",
   "execution_count": 57,
   "metadata": {},
   "outputs": [
    {
     "data": {
      "text/plain": [
       "2"
      ]
     },
     "execution_count": 57,
     "metadata": {},
     "output_type": "execute_result"
    }
   ],
   "source": [
    "matrix.get((0,1),0)"
   ]
  },
  {
   "cell_type": "markdown",
   "metadata": {},
   "source": [
    "# Set"
   ]
  },
  {
   "cell_type": "markdown",
   "metadata": {},
   "source": [
    "Set is a data structure equivalent to sets in mathematics. Also, the definition of set and dictionary are simillar in python, but the order of elements in a set is undefined."
   ]
  },
  {
   "cell_type": "code",
   "execution_count": 58,
   "metadata": {
    "scrolled": true
   },
   "outputs": [
    {
     "ename": "TypeError",
     "evalue": "'set' object is not subscriptable",
     "output_type": "error",
     "traceback": [
      "\u001b[0;31m---------------------------------------------------------------------------\u001b[0m",
      "\u001b[0;31mTypeError\u001b[0m                                 Traceback (most recent call last)",
      "Input \u001b[0;32mIn [58]\u001b[0m, in \u001b[0;36m<cell line: 3>\u001b[0;34m()\u001b[0m\n\u001b[1;32m      1\u001b[0m A \u001b[38;5;241m=\u001b[39m {\u001b[38;5;241m1\u001b[39m,\u001b[38;5;241m3\u001b[39m,\u001b[38;5;241m5\u001b[39m,\u001b[38;5;241m7\u001b[39m}\n\u001b[0;32m----> 3\u001b[0m \u001b[43mA\u001b[49m\u001b[43m[\u001b[49m\u001b[38;5;241;43m2\u001b[39;49m\u001b[43m]\u001b[49m\n",
      "\u001b[0;31mTypeError\u001b[0m: 'set' object is not subscriptable"
     ]
    }
   ],
   "source": [
    "A = {1,3,5,7}\n",
    "\n",
    "A[2]   # Since index is not defined by python or by yourself in a set. If we call a specific index, we definitely have an error like this:"
   ]
  },
  {
   "cell_type": "markdown",
   "metadata": {},
   "source": [
    "This ```error``` shows that sets can not be refered by a specific index, elements in a sets have no particular position. If you call a set with an index, you get the error above"
   ]
  },
  {
   "cell_type": "markdown",
   "metadata": {},
   "source": [
    "##### Changing a list to a set using ```set()``` function"
   ]
  },
  {
   "cell_type": "code",
   "execution_count": 9,
   "metadata": {},
   "outputs": [
    {
     "name": "stdout",
     "output_type": "stream",
     "text": [
      "<class 'list'>\n",
      "['a', 'a', 'b', 'c', 'c', 'd']\n"
     ]
    }
   ],
   "source": [
    "alphabet = [\"a\", \"a\", \"b\",\"c\", \"c\",\"d\"] #notice some repeated letters\n",
    "print (type(alphabet))\n",
    "print (alphabet)\n"
   ]
  },
  {
   "cell_type": "code",
   "execution_count": 10,
   "metadata": {},
   "outputs": [
    {
     "name": "stdout",
     "output_type": "stream",
     "text": [
      "<class 'set'>\n",
      "{'d', 'a', 'c', 'b'}\n"
     ]
    }
   ],
   "source": [
    "alphabet_set = set(alphabet) # no repeated letters on a \"set\"\n",
    "print (type(alphabet_set))\n",
    "print (alphabet_set)"
   ]
  },
  {
   "cell_type": "markdown",
   "metadata": {},
   "source": [
    "### Methods in Set"
   ]
  },
  {
   "cell_type": "markdown",
   "metadata": {},
   "source": [
    "```y.copy()``` : Returne a copy of set.\n",
    "\n",
    "```y.clear()``` : Remove all items of set.\n",
    "\n",
    "```y.add(x)``` : Adds element ```x``` to the set ```y```.\n",
    "\n",
    "```y.remove(x)``` : Remove element ```x``` from the set ```y```.\n",
    "\n",
    "```y.update(x)``` : Adds all elements of ```x``` to the set ```y```.\n",
    "\n",
    "```y.issubset(x)``` : Returns ```true``` if ```y``` is a subset of ```x```.\n",
    "\n",
    "```y.issuperset(x)``` : Returns ```true``` if ```x``` is a subset of ```y```.\n",
    "\n",
    "```y.union(x)``` : Returns a set which is the union of two sets.   \n",
    "\n",
    "```y.intersection(x)``` : Returns a set which is the intersection of two sets.   \n",
    "\n",
    "```y.difference(x)``` : Returns the set difference of two sets.\n",
    "\n",
    "```y.symmetric_difference(x)``` : Returns the symmetric difference of two sets."
   ]
  },
  {
   "cell_type": "code",
   "execution_count": 63,
   "metadata": {},
   "outputs": [
    {
     "name": "stdout",
     "output_type": "stream",
     "text": [
      "{'R', 'java', 'python', 'C'}\n"
     ]
    }
   ],
   "source": [
    "program = {\"C\", \"java\", \"python\", \"R\"}\n",
    "\n",
    "\n",
    "C = program.copy()   # y.copy() function\n",
    "print(C)"
   ]
  },
  {
   "cell_type": "code",
   "execution_count": 64,
   "metadata": {},
   "outputs": [
    {
     "name": "stdout",
     "output_type": "stream",
     "text": [
      "{'R', 'open CV', 'python', 'java', 'C'}\n"
     ]
    }
   ],
   "source": [
    "program.add(\"open CV\")   # y.add(x) function\n",
    "\n",
    "print (program)   "
   ]
  },
  {
   "cell_type": "code",
   "execution_count": 65,
   "metadata": {},
   "outputs": [
    {
     "name": "stdout",
     "output_type": "stream",
     "text": [
      "set()\n"
     ]
    }
   ],
   "source": [
    "C.clear()     # y.clear() function\n",
    "print (C)"
   ]
  },
  {
   "cell_type": "code",
   "execution_count": 66,
   "metadata": {},
   "outputs": [
    {
     "name": "stdout",
     "output_type": "stream",
     "text": [
      "{'R', 'open CV', 'python', 'C'}\n"
     ]
    }
   ],
   "source": [
    "program.remove(\"java\")     # y.remove(x) function\n",
    "print (program)"
   ]
  },
  {
   "cell_type": "code",
   "execution_count": 67,
   "metadata": {},
   "outputs": [
    {
     "name": "stdout",
     "output_type": "stream",
     "text": [
      "{'R', 'open CV', 'v', 'j', 'a', 'python', 'C'}\n"
     ]
    }
   ],
   "source": [
    "program.update(\"java\")   # \"java\" is considered as a set \n",
    "print (program)"
   ]
  },
  {
   "cell_type": "code",
   "execution_count": 68,
   "metadata": {},
   "outputs": [
    {
     "data": {
      "text/plain": [
       "False"
      ]
     },
     "execution_count": 68,
     "metadata": {},
     "output_type": "execute_result"
    }
   ],
   "source": [
    "A = {2,4,6,8}\n",
    "B = {100,300,500}\n",
    "\n",
    "\n",
    "A.issubset(B)"
   ]
  },
  {
   "cell_type": "code",
   "execution_count": 69,
   "metadata": {},
   "outputs": [
    {
     "data": {
      "text/plain": [
       "True"
      ]
     },
     "execution_count": 69,
     "metadata": {},
     "output_type": "execute_result"
    }
   ],
   "source": [
    "A.issubset(A)"
   ]
  },
  {
   "cell_type": "code",
   "execution_count": 70,
   "metadata": {},
   "outputs": [
    {
     "data": {
      "text/plain": [
       "False"
      ]
     },
     "execution_count": 70,
     "metadata": {},
     "output_type": "execute_result"
    }
   ],
   "source": [
    "A.issuperset(B)"
   ]
  },
  {
   "cell_type": "code",
   "execution_count": 71,
   "metadata": {},
   "outputs": [
    {
     "name": "stdout",
     "output_type": "stream",
     "text": [
      "{2, 4, 100, 6, 500, 8, 300}\n"
     ]
    }
   ],
   "source": [
    "C = A.union(B)\n",
    "print (C)"
   ]
  },
  {
   "cell_type": "code",
   "execution_count": 72,
   "metadata": {},
   "outputs": [
    {
     "name": "stdout",
     "output_type": "stream",
     "text": [
      "The intersection of A and C is:  {8, 2, 4, 6}\n"
     ]
    }
   ],
   "source": [
    "D = A.intersection(C)\n",
    "print (\"The intersection of A and C is: \", D )"
   ]
  },
  {
   "cell_type": "code",
   "execution_count": 73,
   "metadata": {},
   "outputs": [
    {
     "name": "stdout",
     "output_type": "stream",
     "text": [
      "{100, 500, 300}\n"
     ]
    }
   ],
   "source": [
    "E = B.difference(D)\n",
    "print (E)"
   ]
  },
  {
   "cell_type": "code",
   "execution_count": 74,
   "metadata": {},
   "outputs": [
    {
     "name": "stdout",
     "output_type": "stream",
     "text": [
      "set()\n"
     ]
    }
   ],
   "source": [
    "F = A.symmetric_difference(D) \n",
    "print (F)"
   ]
  },
  {
   "cell_type": "markdown",
   "metadata": {},
   "source": [
    "# Exercises"
   ]
  },
  {
   "cell_type": "markdown",
   "metadata": {},
   "source": [
    "__1.__ Create a list containing the names of the Super Bowl winning teams for each year over the last 5 years. Name the list \"SuperBowl_5\". Are names repeated in your list? Are repeated names allowed in Python lists? "
   ]
  },
  {
   "cell_type": "markdown",
   "metadata": {},
   "source": [
    "__2.__ Repeat the exercise above but use a \"set\" instead of a list. Can you have repeated elements on a Python set?"
   ]
  },
  {
   "cell_type": "markdown",
   "metadata": {},
   "source": [
    "__3.__ Create a list with the names of all months of the year. Call this list \"months\". Print the third month of your list. Sort your \"months\" list alphabeticaly. _Hint:_ use function <code>months.sort()</code>. Print again the third month of your list. Has it changed or not? Why or why not?"
   ]
  },
  {
   "cell_type": "markdown",
   "metadata": {},
   "source": [
    "__4.__ Create a list with the first 10 prime numbers. Call this list \"prime10\". Extract from \"prime10\" the first five (lower) prime numbers and store the result into another list called \"prime5\". Print both lists."
   ]
  },
  {
   "cell_type": "markdown",
   "metadata": {},
   "source": [
    "__5.__ Print each number in \"prime10\" followed by a comma, a space and then the same number but multiplied by 19. Using mathematics, we can ask this same question in an alternative way. Please calculate:\n",
    "\\begin{equation*}\n",
    "(x, 19x) \\forall x \\in {prime10}\n",
    "\\end{equation*}\n",
    "__Note:__ \"$\\forall x \\in$\" means \"_for all x element of_\""
   ]
  },
  {
   "cell_type": "markdown",
   "metadata": {},
   "source": [
    "__6.__ Print each number in \"prime5\" followed by a comma, a space and then the same number but raised to the fifth power. Using mathematics, we can ask this same question in an alternative way. Please calculate:\n",
    "\\begin{equation*}\n",
    "(x, x^5) \\forall x \\in {prime5}\n",
    "\\end{equation*}"
   ]
  },
  {
   "cell_type": "markdown",
   "metadata": {},
   "source": [
    "# Homework (not graded)\n",
    "Please complete all the exercises on this Notebook. Some exercises will be solved in class, but you should complete solving all the remaining exersices at the end of each Notebook on every class. If you can not solve an exercise, please contact the class teaching assistant for help inmmediately."
   ]
  },
  {
   "cell_type": "markdown",
   "metadata": {},
   "source": [
    "# References\n",
    "- Conditional statements: https://www.w3schools.com/python/python_conditions.asp\n",
    "- Sequences in Python: https://en.wikibooks.org/wiki/Python_Programming/Sequences\n"
   ]
  },
  {
   "cell_type": "markdown",
   "metadata": {},
   "source": [
    "_Last updated on 10.13.2022 3:46pm<br>\n",
    "(C) 2022 Complex Adaptive Systems Laboratory all rights reserved._"
   ]
  }
 ],
 "metadata": {
  "kernelspec": {
   "display_name": "Python 3 (ipykernel)",
   "language": "python",
   "name": "python3"
  },
  "language_info": {
   "codemirror_mode": {
    "name": "ipython",
    "version": 3
   },
   "file_extension": ".py",
   "mimetype": "text/x-python",
   "name": "python",
   "nbconvert_exporter": "python",
   "pygments_lexer": "ipython3",
   "version": "3.9.12"
  }
 },
 "nbformat": 4,
 "nbformat_minor": 2
}
